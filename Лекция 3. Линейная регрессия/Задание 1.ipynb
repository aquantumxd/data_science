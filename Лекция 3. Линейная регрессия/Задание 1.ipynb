{
 "cells": [
  {
   "cell_type": "markdown",
   "metadata": {
    "id": "7Q7X1QaBws_N"
   },
   "source": [
    "# Линейная регрессия и стохастический градиентный спуск"
   ]
  },
  {
   "cell_type": "markdown",
   "metadata": {
    "id": "_LD3DmUgws_Q"
   },
   "source": [
    "Вы будете прогнозировать выручку компании в зависимости от уровня ее инвестиций в рекламу по TV, в газетах и по радио."
   ]
  },
  {
   "cell_type": "markdown",
   "metadata": {
    "id": "Y28_ryEKws_R"
   },
   "source": [
    "## Введение\n",
    "Линейная регрессия - один из наиболее хорошо изученных методов машинного обучения, позволяющий прогнозировать значения количественного признака в виде линейной комбинации прочих признаков с параметрами - весами модели. Оптимальные (в смысле минимальности некоторого функционала ошибки) параметры линейной регрессии можно найти аналитически с помощью нормального уравнения или численно с помощью методов оптимизации.  "
   ]
  },
  {
   "cell_type": "markdown",
   "metadata": {
    "id": "6O0oeVt5ws_R"
   },
   "source": [
    "Линейная регрессия использует простой функционал качества - среднеквадратичную ошибку. Мы будем работать с выборкой, содержащей 3 признака. Для настройки параметров (весов) модели решается следующая задача:\n",
    "$$\\frac{1}{\\ell}\\sum_{i=1}^\\ell{{(y_i - (w_0 + w_1x_{i1} + w_2x_{i2} +  w_3x_{i3}))}^2} \\rightarrow \\min_{w_0, w_1, w_2, w_3},$$\n",
    "где $x_{i1}, x_{i2}, x_{i3}$ - значения признаков $i$-го объекта, $y_i$ - значение целевого признака $i$-го объекта, $\\ell$ - число объектов в обучающей выборке."
   ]
  },
  {
   "cell_type": "markdown",
   "metadata": {
    "id": "3oPyVMEUws_S"
   },
   "source": [
    "## Градиентный спуск\n",
    "Параметры $w_0, w_1, w_2, w_3$, по которым минимизируется среднеквадратичная ошибка, можно находить численно с помощью градиентного спуска.\n",
    "Градиентный шаг для весов будет выглядеть следующим образом:\n",
    "$$w_0 \\leftarrow w_0 + \\frac{2\\eta}{\\ell} \\sum_{i=1}^\\ell{{(y_i - (w_0 + w_1x_{i1} + w_2x_{i2} +  w_3x_{i3}))}}$$\n",
    "$$w_j \\leftarrow w_j + \\frac{2\\eta}{\\ell} \\sum_{i=1}^\\ell{{x_{ij}(y_i - (w_0 + w_1x_{i1} + w_2x_{i2} +  w_3x_{i3}))}},\\ j \\in \\{1,2,3\\}$$\n",
    "Здесь $\\eta$ - параметр, шаг градиентного спуска."
   ]
  },
  {
   "cell_type": "markdown",
   "metadata": {
    "id": "szFR1Ck8ws_S"
   },
   "source": [
    "## Стохастический градиентный спуск\n",
    "У градиентного спуска, описанного выше, есть один недостаток. На больших выборках вычисление градиента по всем имеющимся данным на каждом шаге может быть вычислительно сложно.\n",
    "В стохастическом варианте градиентного спуска поправки для весов вычисляются только с учетом одного случайно взятого объекта обучающей выборки:\n",
    "$$w_0 \\leftarrow w_0 + \\frac{2\\eta}{\\ell} {(y_k - (w_0 + w_1x_{k1} + w_2x_{k2} +  w_3x_{k3}))}$$\n",
    "$$w_j \\leftarrow w_j + \\frac{2\\eta}{\\ell} {x_{kj}(y_k - (w_0 + w_1x_{k1} + w_2x_{k2} +  w_3x_{k3}))},\\ j \\in \\{1,2,3\\},$$\n",
    "где $k$ - случайный индекс, $k \\in \\{1, \\ldots, \\ell\\}$."
   ]
  },
  {
   "cell_type": "markdown",
   "metadata": {
    "id": "f7C2seKRws_S"
   },
   "source": [
    "## Нормальное уравнение\n",
    "Нахождение вектора оптимальных весов $w$ может быть сделано и аналитически.\n",
    "Мы хотим найти такой вектор весов $w$, чтобы вектор $y$, соответствующий целевому признаку, получался умножением матрицы $X$ (состоящей из всех признаков объектов обучающей выборки, кроме целевого) на вектор весов $w$. То есть, чтобы выполнялось матричное уравнение:\n",
    "$$y = Xw$$\n",
    "Домножением слева на $X^T$ получаем:\n",
    "$$X^Ty = X^TXw$$\n",
    "Это хорошо, поскольку теперь матрица $X^TX$ - квадратная, и можно найти решение (вектор $w$) в виде:\n",
    "$$w = {(X^TX)}^{-1}X^Ty$$\n",
    "Матрица ${(X^TX)}^{-1}X^T$ - [*псевдообратная*](https://ru.wikipedia.org/wiki/Псевдообратная_матрица) для матрицы $X$. В NumPy такую матрицу можно вычислить с помощью функции [numpy.linalg.pinv](http://docs.scipy.org/doc/numpy-1.10.0/reference/generated/numpy.linalg.pinv.html).\n",
    "\n",
    "Однако, нахождение псевдообратной матрицы - операция вычислительно сложная и нестабильная в случае малого определителя матрицы $X$ (проблема мультиколлинеарности).\n",
    "На практике лучше находить вектор весов $w$ решением матричного уравнения\n",
    "$$X^TXw = X^Ty$$Это может быть сделано с помощью функции [numpy.linalg.solve](http://docs.scipy.org/doc/numpy-1.10.1/reference/generated/numpy.linalg.solve.html).\n",
    "\n",
    "Но все же на практике для больших матриц $X$ быстрее работает градиентный спуск, особенно его стохастическая версия."
   ]
  },
  {
   "cell_type": "markdown",
   "metadata": {
    "id": "lMW2HMtWws_S"
   },
   "source": [
    "## Инструкции по выполнению"
   ]
  },
  {
   "cell_type": "markdown",
   "metadata": {
    "id": "u_trCdXsws_U"
   },
   "source": [
    "**1. Загрузите данные из файла *advertising.csv* в объект pandas DataFrame."
   ]
  },
  {
   "cell_type": "code",
   "metadata": {
    "id": "UOJHAlk0ws_U",
    "ExecuteTime": {
     "end_time": "2024-10-31T12:58:01.373370Z",
     "start_time": "2024-10-31T12:58:01.369662Z"
    }
   },
   "source": [
    "import pandas as pd\n",
    "import numpy as np\n",
    "import matplotlib.pyplot as plt"
   ],
   "outputs": [],
   "execution_count": 233
  },
  {
   "metadata": {
    "ExecuteTime": {
     "end_time": "2024-10-31T12:58:01.464489Z",
     "start_time": "2024-10-31T12:58:01.460627Z"
    }
   },
   "cell_type": "code",
   "source": "df = pd.read_csv('advertising.csv')",
   "outputs": [],
   "execution_count": 234
  },
  {
   "cell_type": "markdown",
   "metadata": {
    "collapsed": true,
    "id": "5FHN39Dtws_U"
   },
   "source": [
    "**Посмотрите на первые 5 записей и на статистику признаков в этом наборе данных.**"
   ]
  },
  {
   "cell_type": "code",
   "metadata": {
    "id": "IHBYw21jws_U",
    "ExecuteTime": {
     "end_time": "2024-10-31T12:58:01.471390Z",
     "start_time": "2024-10-31T12:58:01.465510Z"
    }
   },
   "source": "df.head(5)",
   "outputs": [
    {
     "data": {
      "text/plain": [
       "      TV  Radio  Newspaper  Sales\n",
       "1  230.1   37.8       69.2   22.1\n",
       "2   44.5   39.3       45.1   10.4\n",
       "3   17.2   45.9       69.3    9.3\n",
       "4  151.5   41.3       58.5   18.5\n",
       "5  180.8   10.8       58.4   12.9"
      ],
      "text/html": [
       "<div>\n",
       "<style scoped>\n",
       "    .dataframe tbody tr th:only-of-type {\n",
       "        vertical-align: middle;\n",
       "    }\n",
       "\n",
       "    .dataframe tbody tr th {\n",
       "        vertical-align: top;\n",
       "    }\n",
       "\n",
       "    .dataframe thead th {\n",
       "        text-align: right;\n",
       "    }\n",
       "</style>\n",
       "<table border=\"1\" class=\"dataframe\">\n",
       "  <thead>\n",
       "    <tr style=\"text-align: right;\">\n",
       "      <th></th>\n",
       "      <th>TV</th>\n",
       "      <th>Radio</th>\n",
       "      <th>Newspaper</th>\n",
       "      <th>Sales</th>\n",
       "    </tr>\n",
       "  </thead>\n",
       "  <tbody>\n",
       "    <tr>\n",
       "      <th>1</th>\n",
       "      <td>230.1</td>\n",
       "      <td>37.8</td>\n",
       "      <td>69.2</td>\n",
       "      <td>22.1</td>\n",
       "    </tr>\n",
       "    <tr>\n",
       "      <th>2</th>\n",
       "      <td>44.5</td>\n",
       "      <td>39.3</td>\n",
       "      <td>45.1</td>\n",
       "      <td>10.4</td>\n",
       "    </tr>\n",
       "    <tr>\n",
       "      <th>3</th>\n",
       "      <td>17.2</td>\n",
       "      <td>45.9</td>\n",
       "      <td>69.3</td>\n",
       "      <td>9.3</td>\n",
       "    </tr>\n",
       "    <tr>\n",
       "      <th>4</th>\n",
       "      <td>151.5</td>\n",
       "      <td>41.3</td>\n",
       "      <td>58.5</td>\n",
       "      <td>18.5</td>\n",
       "    </tr>\n",
       "    <tr>\n",
       "      <th>5</th>\n",
       "      <td>180.8</td>\n",
       "      <td>10.8</td>\n",
       "      <td>58.4</td>\n",
       "      <td>12.9</td>\n",
       "    </tr>\n",
       "  </tbody>\n",
       "</table>\n",
       "</div>"
      ]
     },
     "execution_count": 235,
     "metadata": {},
     "output_type": "execute_result"
    }
   ],
   "execution_count": 235
  },
  {
   "cell_type": "code",
   "metadata": {
    "id": "LW5-pfNews_U",
    "ExecuteTime": {
     "end_time": "2024-10-31T12:58:01.477801Z",
     "start_time": "2024-10-31T12:58:01.471390Z"
    }
   },
   "source": "df.info()",
   "outputs": [
    {
     "name": "stdout",
     "output_type": "stream",
     "text": [
      "<class 'pandas.core.frame.DataFrame'>\n",
      "Index: 200 entries, 1 to 200\n",
      "Data columns (total 4 columns):\n",
      " #   Column     Non-Null Count  Dtype  \n",
      "---  ------     --------------  -----  \n",
      " 0   TV         200 non-null    float64\n",
      " 1   Radio      200 non-null    float64\n",
      " 2   Newspaper  200 non-null    float64\n",
      " 3   Sales      200 non-null    float64\n",
      "dtypes: float64(4)\n",
      "memory usage: 7.8 KB\n"
     ]
    }
   ],
   "execution_count": 236
  },
  {
   "metadata": {
    "ExecuteTime": {
     "end_time": "2024-10-31T12:58:01.491279Z",
     "start_time": "2024-10-31T12:58:01.479617Z"
    }
   },
   "cell_type": "code",
   "source": "df.describe()",
   "outputs": [
    {
     "data": {
      "text/plain": [
       "               TV       Radio   Newspaper       Sales\n",
       "count  200.000000  200.000000  200.000000  200.000000\n",
       "mean   147.042500   23.264000   30.554000   14.022500\n",
       "std     85.854236   14.846809   21.778621    5.217457\n",
       "min      0.700000    0.000000    0.300000    1.600000\n",
       "25%     74.375000    9.975000   12.750000   10.375000\n",
       "50%    149.750000   22.900000   25.750000   12.900000\n",
       "75%    218.825000   36.525000   45.100000   17.400000\n",
       "max    296.400000   49.600000  114.000000   27.000000"
      ],
      "text/html": [
       "<div>\n",
       "<style scoped>\n",
       "    .dataframe tbody tr th:only-of-type {\n",
       "        vertical-align: middle;\n",
       "    }\n",
       "\n",
       "    .dataframe tbody tr th {\n",
       "        vertical-align: top;\n",
       "    }\n",
       "\n",
       "    .dataframe thead th {\n",
       "        text-align: right;\n",
       "    }\n",
       "</style>\n",
       "<table border=\"1\" class=\"dataframe\">\n",
       "  <thead>\n",
       "    <tr style=\"text-align: right;\">\n",
       "      <th></th>\n",
       "      <th>TV</th>\n",
       "      <th>Radio</th>\n",
       "      <th>Newspaper</th>\n",
       "      <th>Sales</th>\n",
       "    </tr>\n",
       "  </thead>\n",
       "  <tbody>\n",
       "    <tr>\n",
       "      <th>count</th>\n",
       "      <td>200.000000</td>\n",
       "      <td>200.000000</td>\n",
       "      <td>200.000000</td>\n",
       "      <td>200.000000</td>\n",
       "    </tr>\n",
       "    <tr>\n",
       "      <th>mean</th>\n",
       "      <td>147.042500</td>\n",
       "      <td>23.264000</td>\n",
       "      <td>30.554000</td>\n",
       "      <td>14.022500</td>\n",
       "    </tr>\n",
       "    <tr>\n",
       "      <th>std</th>\n",
       "      <td>85.854236</td>\n",
       "      <td>14.846809</td>\n",
       "      <td>21.778621</td>\n",
       "      <td>5.217457</td>\n",
       "    </tr>\n",
       "    <tr>\n",
       "      <th>min</th>\n",
       "      <td>0.700000</td>\n",
       "      <td>0.000000</td>\n",
       "      <td>0.300000</td>\n",
       "      <td>1.600000</td>\n",
       "    </tr>\n",
       "    <tr>\n",
       "      <th>25%</th>\n",
       "      <td>74.375000</td>\n",
       "      <td>9.975000</td>\n",
       "      <td>12.750000</td>\n",
       "      <td>10.375000</td>\n",
       "    </tr>\n",
       "    <tr>\n",
       "      <th>50%</th>\n",
       "      <td>149.750000</td>\n",
       "      <td>22.900000</td>\n",
       "      <td>25.750000</td>\n",
       "      <td>12.900000</td>\n",
       "    </tr>\n",
       "    <tr>\n",
       "      <th>75%</th>\n",
       "      <td>218.825000</td>\n",
       "      <td>36.525000</td>\n",
       "      <td>45.100000</td>\n",
       "      <td>17.400000</td>\n",
       "    </tr>\n",
       "    <tr>\n",
       "      <th>max</th>\n",
       "      <td>296.400000</td>\n",
       "      <td>49.600000</td>\n",
       "      <td>114.000000</td>\n",
       "      <td>27.000000</td>\n",
       "    </tr>\n",
       "  </tbody>\n",
       "</table>\n",
       "</div>"
      ]
     },
     "execution_count": 237,
     "metadata": {},
     "output_type": "execute_result"
    }
   ],
   "execution_count": 237
  },
  {
   "cell_type": "markdown",
   "metadata": {
    "id": "DzqDrlAsws_V"
   },
   "source": [
    "**Создайте массивы NumPy *X* из столбцов TV, Radio и Newspaper и *y* - из столбца Sales. Используйте атрибут *values* объекта pandas DataFrame.**"
   ]
  },
  {
   "cell_type": "code",
   "metadata": {
    "id": "hkFlqJ7dws_V",
    "ExecuteTime": {
     "end_time": "2024-10-31T12:58:01.495130Z",
     "start_time": "2024-10-31T12:58:01.492369Z"
    }
   },
   "source": [
    "X = df[['TV', 'Radio', 'Newspaper']].values\n",
    "y = df['Sales'].values"
   ],
   "outputs": [],
   "execution_count": 238
  },
  {
   "cell_type": "markdown",
   "metadata": {
    "id": "a5_9WmPkws_V"
   },
   "source": [
    "**Отмасштабируйте столбцы матрицы *X*, вычтя из каждого значения среднее по соответствующему столбцу и поделив результат на стандартное отклонение.**"
   ]
  },
  {
   "cell_type": "code",
   "metadata": {
    "id": "XZvdM4Ntws_V",
    "ExecuteTime": {
     "end_time": "2024-10-31T12:58:01.500358Z",
     "start_time": "2024-10-31T12:58:01.496147Z"
    }
   },
   "source": [
    "means = X.mean(axis=0)\n",
    "stds = X.std(axis=0)\n",
    "\n",
    "X = (X - means) / stds"
   ],
   "outputs": [],
   "execution_count": 239
  },
  {
   "cell_type": "markdown",
   "metadata": {
    "id": "_uI2lY0Cws_V"
   },
   "source": [
    "**Добавьте к матрице *X* столбец из единиц, используя методы *hstack*, *ones* и *reshape* библиотеки NumPy. Вектор из единиц нужен для того, чтобы не обрабатывать отдельно коэффициент $w_0$ линейной регрессии.**"
   ]
  },
  {
   "cell_type": "code",
   "metadata": {
    "id": "xHuW4MqAws_V",
    "ExecuteTime": {
     "end_time": "2024-10-31T12:58:01.532716Z",
     "start_time": "2024-10-31T12:58:01.528956Z"
    }
   },
   "source": "X = np.hstack((np.ones((X.shape[0], 1)), X))",
   "outputs": [],
   "execution_count": 240
  },
  {
   "cell_type": "markdown",
   "metadata": {
    "id": "UHfX0WYWws_V"
   },
   "source": [
    "**2. Реализуйте функцию *mserror* - среднеквадратичную ошибку прогноза. Она принимает два аргумента - объекты Series *y* (значения целевого признака) и *y\\_pred* (предсказанные значения).**"
   ]
  },
  {
   "cell_type": "code",
   "metadata": {
    "collapsed": true,
    "id": "Sa1-W-yJws_V",
    "ExecuteTime": {
     "end_time": "2024-10-31T12:58:01.561904Z",
     "start_time": "2024-10-31T12:58:01.559235Z"
    }
   },
   "source": [
    "def mserror(y, y_pred):\n",
    "    return np.mean((y - y_pred) ** 2)"
   ],
   "outputs": [],
   "execution_count": 241
  },
  {
   "cell_type": "markdown",
   "metadata": {
    "id": "Vga0CUBLws_W"
   },
   "source": [
    "**Какова среднеквадратичная ошибка прогноза значений Sales, если всегда предсказывать медианное значение Sales по исходной выборке?"
   ]
  },
  {
   "cell_type": "code",
   "source": "print(\"MSE = \" + str(mserror(y, np.median(y))))",
   "metadata": {
    "id": "gTPnllSixP8L",
    "ExecuteTime": {
     "end_time": "2024-10-31T12:58:01.639090Z",
     "start_time": "2024-10-31T12:58:01.634632Z"
    }
   },
   "outputs": [
    {
     "name": "stdout",
     "output_type": "stream",
     "text": [
      "MSE = 28.34575\n"
     ]
    }
   ],
   "execution_count": 242
  },
  {
   "cell_type": "markdown",
   "metadata": {
    "id": "V_BIRqZFws_W"
   },
   "source": [
    "**3. Реализуйте функцию *normal_equation*, которая по заданным матрицам (массивам NumPy) *X* и *y* вычисляет вектор весов $w$ согласно нормальному уравнению линейной регрессии.**\n",
    "\n",
    "$$X^TXw = X^Ty$$"
   ]
  },
  {
   "cell_type": "code",
   "metadata": {
    "id": "2wL6U3qGws_W",
    "ExecuteTime": {
     "end_time": "2024-10-31T12:58:01.662534Z",
     "start_time": "2024-10-31T12:58:01.659788Z"
    }
   },
   "source": [
    "def normal_equation(X, y):\n",
    "    return np.linalg.pinv(X) @ y"
   ],
   "outputs": [],
   "execution_count": 243
  },
  {
   "cell_type": "markdown",
   "metadata": {
    "id": "r3pojv3cws_W"
   },
   "source": [
    "**Какие продажи предсказываются линейной моделью с весами, найденными с помощью нормального уравнения, в случае средних инвестиций в рекламу по ТВ, радио и в газетах? (то есть при нулевых значениях масштабированных признаков TV, Radio и Newspaper).**"
   ]
  },
  {
   "cell_type": "code",
   "source": [
    "w_init = normal_equation(X, y)\n",
    "investments = np.array([1, 0, 0, 0])\n",
    "\n",
    "predicted_sales = investments @ w_init\n",
    "\n",
    "print(\"Предсказанные продажи в случае средних инвестиций: \" + str(predicted_sales))"
   ],
   "metadata": {
    "id": "I26iEy1zxRtu",
    "ExecuteTime": {
     "end_time": "2024-10-31T12:58:01.750499Z",
     "start_time": "2024-10-31T12:58:01.746328Z"
    }
   },
   "outputs": [
    {
     "name": "stdout",
     "output_type": "stream",
     "text": [
      "Предсказанные продажи в случае средних инвестиций: 14.0225\n"
     ]
    }
   ],
   "execution_count": 244
  },
  {
   "cell_type": "markdown",
   "metadata": {
    "id": "OE-zuFgdws_W"
   },
   "source": [
    "**4. Напишите функцию *linear_prediction*, которая принимает на вход матрицу *X* и вектор весов линейной модели *w*, а возвращает вектор прогнозов в виде линейной комбинации столбцов матрицы *X* с весами *w*.**"
   ]
  },
  {
   "cell_type": "code",
   "metadata": {
    "collapsed": true,
    "id": "gA1Rkaopws_W",
    "ExecuteTime": {
     "end_time": "2024-10-31T12:58:01.761312Z",
     "start_time": "2024-10-31T12:58:01.757686Z"
    }
   },
   "source": [
    "def linear_prediction(X, w):\n",
    "    return X @ w"
   ],
   "outputs": [],
   "execution_count": 245
  },
  {
   "cell_type": "markdown",
   "metadata": {
    "id": "-6SLT9DRws_W"
   },
   "source": [
    "**Какова среднеквадратичная ошибка прогноза значений Sales в виде линейной модели с весами, найденными с помощью нормального уравнения?**"
   ]
  },
  {
   "cell_type": "code",
   "source": [
    "y_pred = linear_prediction(X, w_init)\n",
    "print(\"MSE (Sales and Predicted Sales): \" + str(mserror(y, y_pred)))"
   ],
   "metadata": {
    "id": "5B44oYHNxXex",
    "ExecuteTime": {
     "end_time": "2024-10-31T12:58:01.783459Z",
     "start_time": "2024-10-31T12:58:01.780773Z"
    }
   },
   "outputs": [
    {
     "name": "stdout",
     "output_type": "stream",
     "text": [
      "MSE (Sales and Predicted Sales): 2.784126314510936\n"
     ]
    }
   ],
   "execution_count": 246
  },
  {
   "cell_type": "markdown",
   "metadata": {
    "id": "fRqJMjodws_a"
   },
   "source": [
    "**5. Напишите функцию *stochastic_gradient_step*, реализующую шаг стохастического градиентного спуска для линейной регрессии. Функция должна принимать матрицу *X*, вектора *y* и *w*, число *train_ind* - индекс объекта обучающей выборки (строки матрицы *X*), по которому считается изменение весов, а также число *$\\eta$* (eta) - шаг градиентного спуска (по умолчанию *eta*=0.01). Результатом будет вектор обновленных весов.**\n",
    "\n",
    "$$w_0 \\leftarrow w_0 + \\frac{2\\eta}{\\ell} {(y_k - (w_0 + w_1x_{k1} + w_2x_{k2} +  w_3x_{k3}))}$$\n",
    "$$w_j \\leftarrow w_j + \\frac{2\\eta}{\\ell} {x_{kj}(y_k - (w_0 + w_1x_{k1} + w_2x_{k2} +  w_3x_{k3}))},\\ j \\in \\{1,2,3\\},$$"
   ]
  },
  {
   "cell_type": "code",
   "metadata": {
    "id": "grsT36DQws_a",
    "outputId": "7cc47349-5b71-42f9-e8d6-cb789c0bbda2",
    "ExecuteTime": {
     "end_time": "2024-10-31T12:58:01.826559Z",
     "start_time": "2024-10-31T12:58:01.820577Z"
    }
   },
   "source": [
    "def stochastic_gradient_step(X, y, w, train_ind, eta = 0.01):\n",
    "    l, n = X.shape\n",
    "    w_new = w.copy()\n",
    "    for j in range(n):\n",
    "        if j == 0:\n",
    "            w_new[0] = w[0] + (2 * eta / l) * (y[train_ind] - (w[0] + sum([w[i] * X[train_ind][i] for i in range(1, n)])))\n",
    "        else:\n",
    "            w_new[j] = w[j] + (2 * eta / l) * X[train_ind][j] * (y[train_ind] - (w[0] + sum([w[i] * X[train_ind][i] for i in range(1, n)])))\n",
    "    return w_new\n"
   ],
   "outputs": [],
   "execution_count": 247
  },
  {
   "cell_type": "markdown",
   "metadata": {
    "id": "_EXm7h_bws_a"
   },
   "source": [
    "**6. Напишите функцию *stochastic_gradient_descent*, реализующую стохастический градиентный спуск для линейной регрессии. Функция принимает на вход следующие аргументы:**\n",
    "- X - матрица, соответствующая обучающей выборке\n",
    "- y - вектор значений целевого признака\n",
    "- w_init - вектор начальных весов модели\n",
    "- eta - шаг градиентного спуска (по умолчанию 0.01)\n",
    "- max_iter - максимальное число итераций градиентного спуска (по умолчанию 10000)\n",
    "- max_weight_dist - минимальное евклидово расстояние между векторами весов на соседних итерациях градиентного спуска,\n",
    "при котором алгоритм прекращает работу (по умолчанию 1e-8)\n",
    "- seed - число, используемое для воспроизводимости сгенерированных псевдослучайных чисел (по умолчанию 42)\n",
    "- verbose - флаг печати информации (например, для отладки, по умолчанию False)\n",
    "\n",
    "**На каждой итерации в вектор (список) должно записываться текущее значение среднеквадратичной ошибки. Функция должна возвращать вектор весов $w$, а также вектор (список) ошибок.**"
   ]
  },
  {
   "cell_type": "code",
   "metadata": {
    "id": "aLR7TEcVws_a",
    "ExecuteTime": {
     "end_time": "2024-10-31T12:58:01.846426Z",
     "start_time": "2024-10-31T12:58:01.840917Z"
    }
   },
   "source": [
    "def stochastic_gradient_descent(X, y, w_init, eta=1e-2, max_iter=1e4,\n",
    "                                min_weight_dist=1e-8, seed=42, verbose=False):\n",
    "    # Инициализируем расстояние между векторами весов на соседних\n",
    "    # итерациях большим числом.\n",
    "    weight_dist = np.inf\n",
    "    # Инициализируем вектор весов\n",
    "    w = w_init\n",
    "    # Сюда будем записывать ошибки на каждой итерации\n",
    "    errors = []\n",
    "    # Счетчик итераций\n",
    "    iter_num = 0\n",
    "    # Будем порождать псевдослучайные числа\n",
    "    # (номер объекта, который будет менять веса), а для воспроизводимости\n",
    "    # этой последовательности псевдослучайных чисел используем seed.\n",
    "    np.random.seed(seed)\n",
    "\n",
    "    # Основной цикл\n",
    "    while weight_dist > min_weight_dist and iter_num < max_iter:\n",
    "        random_ind = np.random.randint(X.shape[0])\n",
    "\n",
    "        w_next = stochastic_gradient_step(X, y, w, random_ind, eta)\n",
    "        \n",
    "        error = mserror(y, linear_prediction(X, w_next))\n",
    "        errors.append(error)\n",
    "        \n",
    "        weight_dist = np.linalg.norm(w_next - w)\n",
    "        iter_num += 1\n",
    "\n",
    "        w = w_next\n",
    "        \n",
    "        if verbose and iter_num % 3000 == 0:\n",
    "            print(f\"Iteration {iter_num}: Error {error:.4f}, Weights {w}\")\n",
    "\n",
    "    return w, errors"
   ],
   "outputs": [],
   "execution_count": 248
  },
  {
   "cell_type": "markdown",
   "metadata": {
    "id": "N0um96Anws_b"
   },
   "source": [
    " **Запустите $10^5$ итераций стохастического градиентного спуска. Укажите вектор начальных весов *w_init*, состоящий из нулей. Оставьте параметры  *eta* и *seed* равными их значениям по умолчанию (*eta*=0.01, *seed*=42 - это важно для проверки ответов).**"
   ]
  },
  {
   "metadata": {},
   "cell_type": "markdown",
   "source": ""
  },
  {
   "cell_type": "code",
   "source": [
    "stoch_grad_desc_weights, stoch_errors_by_iter = stochastic_gradient_descent(X, y, np.zeros(4), eta=0.01, max_iter=1e5,\n",
    "                                min_weight_dist=1e-8, seed=42, verbose=True)"
   ],
   "metadata": {
    "id": "t7567sBGx3_V",
    "ExecuteTime": {
     "end_time": "2024-10-31T12:58:05.659075Z",
     "start_time": "2024-10-31T12:58:01.867091Z"
    }
   },
   "outputs": [
    {
     "name": "stdout",
     "output_type": "stream",
     "text": [
      "Iteration 3000: Error 123.7169, Weights [3.63806557 1.02958929 0.67131977 0.24911977]\n",
      "Iteration 6000: Error 69.1377, Weights [6.31413452 1.77648421 1.25248957 0.40828321]\n",
      "Iteration 9000: Error 39.2069, Weights [8.30966959 2.34389985 1.62837656 0.44983819]\n",
      "Iteration 12000: Error 22.8998, Weights [9.78335914 2.75088129 1.89414991 0.44270922]\n",
      "Iteration 15000: Error 13.7719, Weights [10.89302228  3.06989827  2.1071127   0.42396275]\n",
      "Iteration 18000: Error 8.9218, Weights [11.69159332  3.28338704  2.25921934  0.37434991]\n",
      "Iteration 21000: Error 6.1812, Weights [12.29076578  3.46837137  2.38301026  0.33847423]\n",
      "Iteration 24000: Error 4.6135, Weights [12.75933607  3.58479442  2.47998753  0.27972124]\n",
      "Iteration 27000: Error 3.8192, Weights [13.07464671  3.68563151  2.5562214   0.24660984]\n",
      "Iteration 30000: Error 3.3452, Weights [13.33523745  3.72622401  2.60263734  0.18843068]\n",
      "Iteration 33000: Error 3.1006, Weights [13.51462082  3.75940747  2.6399991   0.14607005]\n",
      "Iteration 36000: Error 2.9637, Weights [13.64174478  3.80409468  2.69226472  0.12832219]\n",
      "Iteration 39000: Error 2.8882, Weights [13.73355152  3.83090111  2.70740195  0.09008368]\n",
      "Iteration 42000: Error 2.8424, Weights [13.80985621  3.85543707  2.70949535  0.06208493]\n",
      "Iteration 45000: Error 2.8177, Weights [13.85878418  3.87363611  2.7400911   0.04553709]\n",
      "Iteration 48000: Error 2.8008, Weights [13.9078012   3.89724504  2.77007842  0.03770828]\n",
      "Iteration 51000: Error 2.7925, Weights [13.94270448  3.89389135  2.76996368  0.0161757 ]\n",
      "Iteration 54000: Error 2.7900, Weights [13.95895202  3.89735631  2.78208921  0.01705665]\n",
      "Iteration 57000: Error 2.7889, Weights [1.39718405e+01 3.88363860e+00 2.78628579e+00 1.13770427e-02]\n",
      "Iteration 60000: Error 2.7869, Weights [ 1.39859790e+01  3.88587194e+00  2.79266503e+00 -2.93244342e-03]\n",
      "Iteration 63000: Error 2.7874, Weights [1.39832084e+01 3.88586024e+00 2.78530474e+00 4.63663344e-03]\n",
      "Iteration 66000: Error 2.7865, Weights [ 1.39943941e+01  3.88467580e+00  2.78062297e+00 -1.01198508e-04]\n",
      "Iteration 69000: Error 2.7865, Weights [1.39984082e+01 3.88706020e+00 2.79004479e+00 7.85832225e-03]\n",
      "Iteration 72000: Error 2.7852, Weights [ 1.39994908e+01  3.90057289e+00  2.78752004e+00 -5.01065196e-03]\n",
      "Iteration 75000: Error 2.7855, Weights [ 1.39952065e+01  3.91118558e+00  2.80001012e+00 -2.35193049e-03]\n",
      "Iteration 78000: Error 2.7848, Weights [14.00275559  3.90409686  2.79171058 -0.01572788]\n",
      "Iteration 81000: Error 2.7844, Weights [14.01562733  3.90374147  2.79632457 -0.01850443]\n",
      "Iteration 84000: Error 2.7844, Weights [ 1.40146961e+01  3.91569721e+00  2.78128526e+00 -6.73021787e-03]\n"
     ]
    }
   ],
   "execution_count": 249
  },
  {
   "cell_type": "code",
   "metadata": {
    "id": "0M03mN1Gws_b",
    "ExecuteTime": {
     "end_time": "2024-10-31T12:58:05.784951Z",
     "start_time": "2024-10-31T12:58:05.659834Z"
    }
   },
   "source": [
    "plt.plot(range(len(stoch_errors_by_iter)), stoch_errors_by_iter)\n",
    "plt.xlabel('Iteration number')\n",
    "plt.ylabel('MSE')"
   ],
   "outputs": [
    {
     "data": {
      "text/plain": [
       "Text(0, 0.5, 'MSE')"
      ]
     },
     "execution_count": 250,
     "metadata": {},
     "output_type": "execute_result"
    },
    {
     "data": {
      "text/plain": [
       "<Figure size 640x480 with 1 Axes>"
      ],
      "image/png": "[encoded data removed]"
     },
     "metadata": {},
     "output_type": "display_data"
    }
   ],
   "execution_count": 250
  },
  {
   "cell_type": "markdown",
   "metadata": {
    "id": "37ZN-y8Vws_b"
   },
   "source": [
    "**Посмотрим на вектор весов, к которому сошелся метод.**"
   ]
  },
  {
   "cell_type": "code",
   "source": [
    "stoch_grad_desc_weights"
   ],
   "metadata": {
    "id": "6h1C1EjEx9CT",
    "ExecuteTime": {
     "end_time": "2024-10-31T12:58:05.788589Z",
     "start_time": "2024-10-31T12:58:05.784951Z"
    }
   },
   "outputs": [
    {
     "data": {
      "text/plain": [
       "array([ 1.40190566e+01,  3.91069256e+00,  2.78209808e+00, -8.10462217e-03])"
      ]
     },
     "execution_count": 251,
     "metadata": {},
     "output_type": "execute_result"
    }
   ],
   "execution_count": 251
  },
  {
   "cell_type": "markdown",
   "metadata": {
    "id": "bgI0tk1aws_b"
   },
   "source": [
    "**Посмотрим на среднеквадратичную ошибку на последней итерации.**"
   ]
  },
  {
   "cell_type": "code",
   "source": [
    "stoch_errors_by_iter[-1]"
   ],
   "metadata": {
    "id": "rOUx04Bkx-Wb",
    "ExecuteTime": {
     "end_time": "2024-10-31T12:58:05.793552Z",
     "start_time": "2024-10-31T12:58:05.788589Z"
    }
   },
   "outputs": [
    {
     "data": {
      "text/plain": [
       "2.784412588406703"
      ]
     },
     "execution_count": 252,
     "metadata": {},
     "output_type": "execute_result"
    }
   ],
   "execution_count": 252
  },
  {
   "cell_type": "markdown",
   "metadata": {
    "id": "Q5qTAAJWws_b"
   },
   "source": [
    "**Какова среднеквадратичная ошибка прогноза значений Sales в виде линейной модели с весами, найденными с помощью градиентного спуска?"
   ]
  },
  {
   "cell_type": "code",
   "source": "mserror(y, linear_prediction(X, stoch_grad_desc_weights))",
   "metadata": {
    "id": "yc_0A2H2x_UF",
    "ExecuteTime": {
     "end_time": "2024-10-31T12:58:05.797540Z",
     "start_time": "2024-10-31T12:58:05.793552Z"
    }
   },
   "outputs": [
    {
     "data": {
      "text/plain": [
       "2.784412588406703"
      ]
     },
     "execution_count": 253,
     "metadata": {},
     "output_type": "execute_result"
    }
   ],
   "execution_count": 253
  }
 ],
 "metadata": {
  "kernelspec": {
   "display_name": "Python 3 (ipykernel)",
   "language": "python",
   "name": "python3"
  },
  "language_info": {
   "codemirror_mode": {
    "name": "ipython",
    "version": 2
   },
   "file_extension": ".py",
   "mimetype": "text/x-python",
   "name": "python",
   "nbconvert_exporter": "python",
   "pygments_lexer": "ipython2",
   "version": "2.7.11"
  },
  "colab": {
   "provenance": []
  }
 },
 "nbformat": 4,
 "nbformat_minor": 0
}
