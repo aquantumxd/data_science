{
 "cells": [
  {
   "cell_type": "markdown",
   "metadata": {
    "id": "SySWVxYOhamY"
   },
   "source": [
    "В этом задании будет использоваться датасет boston из sklearn.datasets. Оставьте последние 25% объектов для контроля качества, разделив X и y на X_train, y_train и X_test, y_test.\n",
    "Целью задания будет реализовать простой вариант градиентного бустинга над регрессионными деревьями для случая квадратичной функции потерь."
   ]
  },
  {
   "cell_type": "code",
   "metadata": {
    "collapsed": true,
    "id": "77YBF_sNhamb",
    "ExecuteTime": {
     "end_time": "2024-11-27T12:28:31.395584Z",
     "start_time": "2024-11-27T12:28:31.389648Z"
    }
   },
   "source": [
    "%matplotlib inline\n",
    "from sklearn.linear_model import LinearRegression \n",
    "import seaborn as sns\n",
    "import pandas as pd\n",
    "from sklearn.tree import DecisionTreeRegressor\n",
    "import numpy as np\n",
    "from sklearn.metrics import mean_squared_error\n",
    "import xgboost as xgb"
   ],
   "outputs": [],
   "execution_count": 81
  },
  {
   "cell_type": "code",
   "metadata": {
    "id": "oAEFOjeZhame",
    "ExecuteTime": {
     "end_time": "2024-11-27T08:54:29.039339Z",
     "start_time": "2024-11-27T08:54:26.671347Z"
    }
   },
   "source": [
    "data_url = \"http://lib.stat.cmu.edu/datasets/boston\"\n",
    "raw_df = pd.read_csv(data_url, sep=\"\\s+\", skiprows=22, header=None)\n",
    "X = np.hstack([raw_df.values[::2, :], raw_df.values[1::2, :2]])\n",
    "y = raw_df.values[1::2, 2]"
   ],
   "outputs": [
    {
     "name": "stderr",
     "output_type": "stream",
     "text": [
      "<>:2: SyntaxWarning: invalid escape sequence '\\s'\n",
      "<>:2: SyntaxWarning: invalid escape sequence '\\s'\n",
      "C:\\Users\\qqxdd\\AppData\\Local\\Temp\\ipykernel_2428\\3048562025.py:2: SyntaxWarning: invalid escape sequence '\\s'\n",
      "  raw_df = pd.read_csv(data_url, sep=\"\\s+\", skiprows=22, header=None)\n"
     ]
    }
   ],
   "execution_count": 13
  },
  {
   "cell_type": "markdown",
   "metadata": {
    "id": "lYZ13BvJhamg"
   },
   "source": [
    "# Задание 1\n",
    "\n",
    "Бустинг - это метод построения композиций базовых алгоритмов с помощью последовательного добавления к текущей композиции нового алгоритма с некоторым коэффициентом. Градиентный бустинг обучает каждый новый алгоритм так, чтобы он приближал антиградиент ошибки по ответам композиции на обучающей выборке. Аналогично минимизации функций методом градиентного спуска, в градиентном бустинге мы подправляем композицию, изменяя алгоритм в направлении антиградиента ошибки. Воспользуйтесь формулой из лекций, задающей ответы на обучающей выборке, на которые нужно обучать новый алгоритм (фактически это лишь чуть более подробно расписанный градиент от ошибки), и получите частный ее случай, если функция потерь L - квадрат отклонения ответа композиции a(x) от правильного ответа y на данном x.\n",
    "\n",
    "Если вы давно не считали производную самостоятельно, вам поможет таблица производных элементарных функций (которую несложно найти в интернете) и правило дифференцирования сложной функции. После дифференцирования квадрата у вас возникнет множитель 2 — т.к. все равно предстоит выбирать коэффициент, с которым будет добавлен новый базовый алгоритм, проигнориуйте этот множитель при дальнейшем построении алгоритма.\n",
    "\n",
    "$L(y, z) = (y - z)^2$\n",
    "\n",
    "$L'_z(y, z) = 2(z - y) => (z - y)$"
   ]
  },
  {
   "metadata": {},
   "cell_type": "markdown",
   "source": "$$a_{k+1}(x) = (y - a_k(x))$$"
  },
  {
   "cell_type": "markdown",
   "metadata": {
    "id": "lpXmPb2Khamh"
   },
   "source": [
    "### Задание 2\n",
    "Заведите массив для объектов DecisionTreeRegressor (будем их использовать в качестве базовых алгоритмов) и для вещественных чисел (это будут коэффициенты перед базовыми алгоритмами). В цикле обучите последовательно 50 решающих деревьев с параметрами max_depth=5 и random_state=42 (остальные параметры - по умолчанию). В бустинге зачастую используются сотни и тысячи деревьев, но мы ограничимся 50, чтобы алгоритм работал быстрее, и его было проще отлаживать (т.к. цель задания разобраться, как работает метод). Каждое дерево должно обучаться на одном и том же множестве объектов, но ответы, которые учится прогнозировать дерево, будут меняться в соответствие с полученным в задании 1 правилом. Попробуйте для начала всегда брать коэффициент равным 0.9. Обычно оправдано выбирать коэффициент значительно меньшим - порядка 0.05 или 0.1, но т.к. в нашем учебном примере на стандартном датасете будет всего 50 деревьев, возьмем для начала шаг побольше.\n",
    "В процессе реализации обучения вам потребуется функция, которая будет вычислять прогноз построенной на данный момент композиции деревьев на выборке X:\n",
    "\n",
    "`def gbm_predict(X):\n",
    "    return [sum([coeff * algo.predict([x])[0] for algo, coeff in zip(base_algorithms_list, coefficients_list)]) for x in X]`\n",
    "    \n",
    "(считаем, что base_algorithms_list - список с базовыми алгоритмами, coefficients_list - список с коэффициентами перед алгоритмами)\n",
    "Эта же функция поможет вам получить прогноз на контрольной выборке и оценить качество работы вашего алгоритма с помощью mean_squared_error в sklearn.metrics. Возведите результат в степень 0.5, чтобы получить RMSE."
   ]
  },
  {
   "cell_type": "code",
   "metadata": {
    "collapsed": true,
    "id": "zJKvP0AOhami",
    "ExecuteTime": {
     "end_time": "2024-11-27T11:32:43.681952Z",
     "start_time": "2024-11-27T11:32:42.040996Z"
    }
   },
   "source": [
    "n_estimators = 50\n",
    "learning_rate = 0.9\n",
    "\n",
    "algorithms = []\n",
    "coefficients = []\n",
    "current_prediction = np.zeros_like(y)\n",
    "\n",
    "for i in range(n_estimators):\n",
    "    residuals = y - current_prediction\n",
    "\n",
    "    tree = DecisionTreeRegressor(max_depth=5, random_state=42)\n",
    "    tree.fit(X, residuals)\n",
    "\n",
    "    algorithms.append(tree)\n",
    "    coefficients.append(learning_rate)\n",
    "\n",
    "    current_prediction += learning_rate * tree.predict(X)\n",
    "    \n",
    "def gbm_predict(X, algorithms, coefficients):\n",
    "    return np.array([\n",
    "        sum(coeff * algo.predict([x])[0] for algo, coeff in zip(algorithms, coefficients))\n",
    "        for x in X\n",
    "    ])\n",
    "\n",
    "y_pred = gbm_predict(X, algorithms, coefficients)\n",
    "rmse = mean_squared_error(y, y_pred) ** 0.5\n",
    "\n",
    "print(\"RMSE:\", rmse)"
   ],
   "outputs": [
    {
     "name": "stdout",
     "output_type": "stream",
     "text": [
      "RMSE: 0.019509832431693613\n"
     ]
    }
   ],
   "execution_count": 66
  },
  {
   "cell_type": "markdown",
   "metadata": {
    "id": "U9NcCEZ1hamk"
   },
   "source": [
    "\n",
    "### Задание 3\n",
    "\n",
    "Двигаясь с постоянным шагом, вблизи минимума ошибки ответы на обучающей выборке меняются слишком резко, перескакивая через минимум. Попробуйте уменьшать вес перед каждым алгоритмом с каждой следующей итерацией по формуле 0.9 / (1.0 + i), где i - номер итерации (от 0 до 49). Используйте качество работы алгоритма как ответ в пункте 3. В реальности часто применяется следующая стратегия выбора шага: как только выбран алгоритм, подберем коэффициент перед ним численным методом оптимизации таким образом, чтобы отклонение от правильных ответов было минимальным."
   ]
  },
  {
   "metadata": {
    "ExecuteTime": {
     "end_time": "2024-11-27T11:32:47.097753Z",
     "start_time": "2024-11-27T11:32:45.414942Z"
    }
   },
   "cell_type": "code",
   "source": [
    "n_estimators = 50\n",
    "learning_rate = 0.9\n",
    "\n",
    "algorithms = []\n",
    "coefficients = []\n",
    "current_prediction = np.zeros_like(y)\n",
    "\n",
    "for i in range(n_estimators):\n",
    "    residuals = y - current_prediction\n",
    "\n",
    "    tree = DecisionTreeRegressor(max_depth=5, random_state=42)\n",
    "    tree.fit(X, residuals)\n",
    "\n",
    "    algorithms.append(tree)\n",
    "    coefficients.append(learning_rate)\n",
    "\n",
    "    current_prediction += learning_rate / (1.0 + i) * tree.predict(X)\n",
    "    \n",
    "def gbm_predict(X, algorithms, coefficients):\n",
    "    return np.array([\n",
    "        sum(coeff * algo.predict([x])[0] for algo, coeff in zip(algorithms, coefficients))\n",
    "        for x in X\n",
    "    ])\n",
    "\n",
    "y_pred = gbm_predict(X, algorithms, coefficients)\n",
    "rmse = mean_squared_error(y, y_pred) ** 0.5\n",
    "\n",
    "print(\"RMSE:\", rmse)"
   ],
   "outputs": [
    {
     "name": "stdout",
     "output_type": "stream",
     "text": [
      "RMSE: 14.584843614897133\n"
     ]
    }
   ],
   "execution_count": 67
  },
  {
   "cell_type": "markdown",
   "metadata": {
    "id": "ghSkDqHphaml"
   },
   "source": [
    "### Задание 4\n",
    "\n",
    "Реализованный вами метод - градиентный бустинг над деревьями - очень популярен в машинном обучении. Он представлен как в самой библиотеке sklearn, так и в сторонней библиотеке XGBoost, которая имеет свой питоновский интерфейс. На практике XGBoost работает заметно лучше GradientBoostingRegressor из sklearn, но для этого задания вы можете использовать любую реализацию. Исследуйте, переобучается ли градиентный бустинг с ростом числа итераций (и подумайте, почему), а также с ростом глубины деревьев. На основе наблюдений выпишите через пробел номера правильных из приведенных ниже утверждений в порядке возрастания номера:\n",
    "\n",
    "  1. С увеличением числа деревьев начиная с некоторого момента качество работы градиентного бустинга не меняется существенно.\n",
    "  2. С увеличением числа деревьев начиная с некоторого момента градиентный бустинг начинает переобучаться.\n",
    "  3. С ростом глубины деревьев, начиная с некоторого момента, качество работы градиентного бустинга на тестовой выборке начинает ухудшаться\n",
    "  4. С ростом глубины деревьев, начиная с некоторого момента, качество работы градиентного бустинга перестает существенно изменяться"
   ]
  },
  {
   "cell_type": "markdown",
   "metadata": {
    "id": "q5WYFmJDhaml"
   },
   "source": [
    "#### Зависимость от числа деревьев"
   ]
  },
  {
   "cell_type": "code",
   "source": [
    "trees_array = [5, 10, 25, 50, 100, 200]\n",
    "scores_trees = []\n",
    "for trees in trees_array:\n",
    "    model = xgb.XGBRegressor(n_estimators=trees, random_state=42)\n",
    "    model.fit(X, y)\n",
    "    y_pred = model.predict(X)\n",
    "    scores_trees.append(mean_squared_error(y, y_pred) ** 0.5)\n",
    "print(scores_trees)\n",
    "\n",
    "sns.lineplot(x=trees_array, y=scores_trees)"
   ],
   "metadata": {
    "id": "wiL8wjpXklkp",
    "ExecuteTime": {
     "end_time": "2024-11-27T11:56:23.386451Z",
     "start_time": "2024-11-27T11:56:22.880098Z"
    }
   },
   "outputs": [
    {
     "name": "stdout",
     "output_type": "stream",
     "text": [
      "[2.5167209482261357, 1.2361393401113407, 0.5712115615175566, 0.2185561084382407, 0.037189771524136814, 0.0013586273649476648]\n"
     ]
    },
    {
     "data": {
      "text/plain": [
       "<Axes: >"
      ]
     },
     "execution_count": 77,
     "metadata": {},
     "output_type": "execute_result"
    },
    {
     "data": {
      "text/plain": [
       "<Figure size 640x480 with 1 Axes>"
      ],
      "image/png": "[encoded data removed]"
     },
     "metadata": {},
     "output_type": "display_data"
    }
   ],
   "execution_count": 77
  },
  {
   "cell_type": "markdown",
   "metadata": {
    "id": "f9LkSljJhamm"
   },
   "source": [
    "#### Зависимость от глубины дерева"
   ]
  },
  {
   "cell_type": "code",
   "source": [
    "depth_array = [2, 4, 6, 8, 10, 12]\n",
    "scores_depth = []\n",
    "for depth in depth_array:\n",
    "    model = xgb.XGBRegressor(max_depth=depth, random_state=42)\n",
    "    model.fit(X, y)\n",
    "    y_pred = model.predict(X)\n",
    "    scores_depth.append(mean_squared_error(y, y_pred) ** 0.5)\n",
    "print(scores_depth)\n",
    "\n",
    "sns.lineplot(x=depth_array, y=scores_depth)"
   ],
   "metadata": {
    "id": "v3Wj6iytkmyf",
    "ExecuteTime": {
     "end_time": "2024-11-27T11:59:51.628141Z",
     "start_time": "2024-11-27T11:59:50.766840Z"
    }
   },
   "outputs": [
    {
     "name": "stdout",
     "output_type": "stream",
     "text": [
      "[1.5299937724279544, 0.3347867947375357, 0.037189771524136814, 0.001173234620980337, 0.0010270323553458656, 0.0008039376098781556]\n"
     ]
    },
    {
     "data": {
      "text/plain": [
       "<Axes: >"
      ]
     },
     "execution_count": 79,
     "metadata": {},
     "output_type": "execute_result"
    },
    {
     "data": {
      "text/plain": [
       "<Figure size 640x480 with 1 Axes>"
      ],
      "image/png": "[encoded data removed]"
     },
     "metadata": {},
     "output_type": "display_data"
    }
   ],
   "execution_count": 79
  },
  {
   "metadata": {},
   "cell_type": "markdown",
   "source": "## Ответ: 1 4"
  },
  {
   "cell_type": "markdown",
   "metadata": {
    "id": "x0qlAIrfhamn"
   },
   "source": [
    "### Задание 5\n",
    "\n",
    "Сравните получаемое с помощью градиентного бустинга качество с качеством работы линейной регрессии. Для этого обучите LinearRegression из sklearn.linear_model (с параметрами по умолчанию) на обучающей выборке и оцените для прогнозов полученного алгоритма на тестовой выборке RMSE. В данном примере качество работы простой модели должно было оказаться хуже, но не стоит забывать, что так бывает не всегда."
   ]
  },
  {
   "cell_type": "code",
   "metadata": {
    "collapsed": true,
    "id": "Dw9DKLMghamo",
    "ExecuteTime": {
     "end_time": "2024-11-27T12:31:43.236437Z",
     "start_time": "2024-11-27T12:31:43.169074Z"
    }
   },
   "source": [
    "linear_model = LinearRegression()\n",
    "linear_model.fit(X, y)\n",
    "\n",
    "y_pred_lr = linear_model.predict(X)\n",
    "rmse_lr = mean_squared_error(y, y_pred_lr) ** 0.5\n",
    "print(f\"Linear Regression RMSE:\", rmse_lr)\n",
    "\n",
    "xgb_model = xgb.XGBRegressor()\n",
    "xgb_model.fit(X, y)\n",
    "\n",
    "y_pred_xgb = xgb_model.predict(X)\n",
    "rmse_xgb = mean_squared_error(y, y_pred_xgb) ** 0.5\n",
    "print(\"XGBoost RMSE:\", rmse_xgb)"
   ],
   "outputs": [
    {
     "name": "stdout",
     "output_type": "stream",
     "text": [
      "Linear Regression RMSE: 4.679191295697281\n",
      "XGBoost RMSE: 0.037189771524136814\n"
     ]
    }
   ],
   "execution_count": 90
  }
 ],
 "metadata": {
  "kernelspec": {
   "display_name": "Python 3 (ipykernel)",
   "language": "python",
   "name": "python3"
  },
  "language_info": {
   "codemirror_mode": {
    "name": "ipython",
    "version": 2
   },
   "file_extension": ".py",
   "mimetype": "text/x-python",
   "name": "python",
   "nbconvert_exporter": "python",
   "pygments_lexer": "ipython2",
   "version": "2.7.11"
  },
  "colab": {
   "provenance": []
  }
 },
 "nbformat": 4,
 "nbformat_minor": 0
}
