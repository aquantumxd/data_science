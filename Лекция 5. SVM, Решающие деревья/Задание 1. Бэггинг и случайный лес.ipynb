{
 "cells": [
  {
   "cell_type": "markdown",
   "metadata": {
    "id": "CkLlg2KZha_T"
   },
   "source": [
    "# Бэггинг и случайный лес"
   ]
  },
  {
   "cell_type": "markdown",
   "metadata": {
    "id": "8w-YE_zRha_W"
   },
   "source": [
    "Загрузите датасет digits с помощью функции load_digits из sklearn.datasets и подготовьте матрицу признаков X и ответы на обучающей выборке y (вам потребуются поля data и target в объекте, который возвращает load_digits).\n",
    "Для оценки качества далее нужно будет использовать cross_val_score из sklearn.cross_validation с параметром cv=10. Эта функция реализует k-fold cross validation c k равным значению параметра cv. Функция cross_val_score будет возвращать numpy.ndarray, в котором будет k чисел - качество в каждом из k экспериментов k-fold cross validation. Для получения среднего значения (которое и будет оценкой качества работы) вызовите метод .mean() у массива, который возвращает cross_val_score.\n",
    "\n",
    "Если вам захочется ускорить вычисление cross_val_score - можете попробовать использовать параметр n_jobs."
   ]
  },
  {
   "cell_type": "code",
   "metadata": {
    "collapsed": true,
    "id": "MlAw4VdSha_X",
    "ExecuteTime": {
     "end_time": "2024-11-27T08:24:55.862608Z",
     "start_time": "2024-11-27T08:24:55.858063Z"
    }
   },
   "source": [
    "%matplotlib inline\n",
    "from sklearn import datasets\n",
    "from sklearn.model_selection import cross_val_score\n",
    "from sklearn.tree import DecisionTreeClassifier\n",
    "from sklearn.ensemble import BaggingClassifier, RandomForestClassifier\n",
    "import seaborn as sns"
   ],
   "outputs": [],
   "execution_count": 102
  },
  {
   "metadata": {},
   "cell_type": "markdown",
   "source": "# Загрузим датасет"
  },
  {
   "cell_type": "code",
   "metadata": {
    "id": "VHIPozbWha_a",
    "ExecuteTime": {
     "end_time": "2024-11-27T08:24:55.923085Z",
     "start_time": "2024-11-27T08:24:55.904443Z"
    }
   },
   "source": [
    "digits = datasets.load_digits()\n",
    "digits['DESCR']"
   ],
   "outputs": [
    {
     "data": {
      "text/plain": [
       "\".. _digits_dataset:\\n\\nOptical recognition of handwritten digits dataset\\n--------------------------------------------------\\n\\n**Data Set Characteristics:**\\n\\n:Number of Instances: 1797\\n:Number of Attributes: 64\\n:Attribute Information: 8x8 image of integer pixels in the range 0..16.\\n:Missing Attribute Values: None\\n:Creator: E. Alpaydin (alpaydin '@' boun.edu.tr)\\n:Date: July; 1998\\n\\nThis is a copy of the test set of the UCI ML hand-written digits datasets\\nhttps://archive.ics.uci.edu/ml/datasets/Optical+Recognition+of+Handwritten+Digits\\n\\nThe data set contains images of hand-written digits: 10 classes where\\neach class refers to a digit.\\n\\nPreprocessing programs made available by NIST were used to extract\\nnormalized bitmaps of handwritten digits from a preprinted form. From a\\ntotal of 43 people, 30 contributed to the training set and different 13\\nto the test set. 32x32 bitmaps are divided into nonoverlapping blocks of\\n4x4 and the number of on pixels are counted in each block. This generates\\nan input matrix of 8x8 where each element is an integer in the range\\n0..16. This reduces dimensionality and gives invariance to small\\ndistortions.\\n\\nFor info on NIST preprocessing routines, see M. D. Garris, J. L. Blue, G.\\nT. Candela, D. L. Dimmick, J. Geist, P. J. Grother, S. A. Janet, and C.\\nL. Wilson, NIST Form-Based Handprint Recognition System, NISTIR 5469,\\n1994.\\n\\n.. dropdown:: References\\n\\n  - C. Kaynak (1995) Methods of Combining Multiple Classifiers and Their\\n    Applications to Handwritten Digit Recognition, MSc Thesis, Institute of\\n    Graduate Studies in Science and Engineering, Bogazici University.\\n  - E. Alpaydin, C. Kaynak (1998) Cascading Classifiers, Kybernetika.\\n  - Ken Tang and Ponnuthurai N. Suganthan and Xi Yao and A. Kai Qin.\\n    Linear dimensionalityreduction using relevance weighted LDA. School of\\n    Electrical and Electronic Engineering Nanyang Technological University.\\n    2005.\\n  - Claudio Gentile. A New Approximate Maximal Margin Classification\\n    Algorithm. NIPS. 2000.\\n\""
      ]
     },
     "execution_count": 103,
     "metadata": {},
     "output_type": "execute_result"
    }
   ],
   "execution_count": 103
  },
  {
   "metadata": {
    "ExecuteTime": {
     "end_time": "2024-11-27T08:24:55.927448Z",
     "start_time": "2024-11-27T08:24:55.924117Z"
    }
   },
   "cell_type": "code",
   "source": "X, y = digits.data, digits.target",
   "outputs": [],
   "execution_count": 104
  },
  {
   "cell_type": "markdown",
   "metadata": {
    "id": "w4LcPJ0Jha_b"
   },
   "source": [
    "### Шаг 1\n",
    "Создайте DecisionTreeClassifier с настройками по умолчанию и измерьте качество его работы с помощью cross_val_score."
   ]
  },
  {
   "cell_type": "code",
   "source": [
    "clf = DecisionTreeClassifier()\n",
    "score_clf = cross_val_score(clf, X, y, cv=10).mean()\n",
    "print(score_clf)"
   ],
   "metadata": {
    "id": "mb1huconh6gk",
    "ExecuteTime": {
     "end_time": "2024-11-27T08:24:56.117114Z",
     "start_time": "2024-11-27T08:24:55.927448Z"
    }
   },
   "outputs": [
    {
     "name": "stdout",
     "output_type": "stream",
     "text": [
      "0.8296958410924891\n"
     ]
    }
   ],
   "execution_count": 105
  },
  {
   "cell_type": "markdown",
   "metadata": {
    "id": "RVBa5JdTha_c"
   },
   "source": [
    "### Шаг 2\n",
    "\n",
    "Воспользуйтесь BaggingClassifier из sklearn.ensemble, чтобы обучить бэггинг над DecisionTreeClassifier. Используйте в BaggingClassifier параметры по умолчанию, задав только количество деревьев равным 100."
   ]
  },
  {
   "cell_type": "code",
   "source": [
    "bagging_clf = BaggingClassifier(estimator=DecisionTreeClassifier(), n_estimators=100)\n",
    "score_bagging_clf = cross_val_score(bagging_clf, X, y, cv=10).mean()\n",
    "print(score_bagging_clf)"
   ],
   "metadata": {
    "id": "Y41aypEEh71g",
    "ExecuteTime": {
     "end_time": "2024-11-27T08:25:08.129434Z",
     "start_time": "2024-11-27T08:24:56.117928Z"
    }
   },
   "outputs": [
    {
     "name": "stdout",
     "output_type": "stream",
     "text": [
      "0.9242706393544383\n"
     ]
    }
   ],
   "execution_count": 106
  },
  {
   "cell_type": "markdown",
   "metadata": {
    "id": "RHFYUwcKha_f"
   },
   "source": [
    "### Шаг 3\n",
    "Теперь изучите параметры BaggingClassifier и выберите их такими, чтобы каждый базовый алгоритм обучался не на всех d признаках, а на $\\sqrt{d}$ случайных признаков. Корень из числа признаков - часто используемая эвристика в задачах классификации, в задачах регрессии же часто берут число признаков, деленное на три. Но в общем случае ничто не мешает вам выбирать любое другое число случайных признаков."
   ]
  },
  {
   "cell_type": "code",
   "source": [
    "sqrt_d = int(X.shape[0] ** 0.5)\n",
    "bclf = BaggingClassifier(estimator=DecisionTreeClassifier(), n_estimators=100, max_samples=sqrt_d)\n",
    "score_bagging_clf_sqrt = cross_val_score(bclf, X, y, cv=10).mean()\n",
    "print(score_bagging_clf_sqrt)"
   ],
   "metadata": {
    "id": "vkaDwV1MiAa8",
    "ExecuteTime": {
     "end_time": "2024-11-27T08:25:10.002522Z",
     "start_time": "2024-11-27T08:25:08.129434Z"
    }
   },
   "outputs": [
    {
     "name": "stdout",
     "output_type": "stream",
     "text": [
      "0.8814432029795158\n"
     ]
    }
   ],
   "execution_count": 107
  },
  {
   "cell_type": "markdown",
   "metadata": {
    "id": "9jrDgt6-ha_g"
   },
   "source": [
    "### Шаг 4\n",
    "Наконец, давайте попробуем выбирать случайные признаки не один раз на все дерево, а при построении каждой вершины дерева. Сделать это несложно: нужно убрать выбор случайного подмножества признаков в BaggingClassifier и добавить его в DecisionTreeClassifier. Какой параметр за это отвечает, можно понять из документации sklearn, либо просто попробовать угадать (скорее всего, у вас сразу получится). Попробуйте выбирать опять же $\\sqrt{d}$ признаков."
   ]
  },
  {
   "cell_type": "code",
   "source": [
    "bclf = BaggingClassifier(estimator=DecisionTreeClassifier(max_features=sqrt_d), n_estimators=100, random_state=42)\n",
    "score_bclf = cross_val_score(bclf, X, y, cv=10).mean()\n",
    "print(score_bclf)"
   ],
   "metadata": {
    "id": "RL9SE6HMiJs_",
    "ExecuteTime": {
     "end_time": "2024-11-27T08:25:18.896949Z",
     "start_time": "2024-11-27T08:25:10.003555Z"
    }
   },
   "outputs": [
    {
     "name": "stdout",
     "output_type": "stream",
     "text": [
      "0.9326474239602731\n"
     ]
    }
   ],
   "execution_count": 108
  },
  {
   "cell_type": "markdown",
   "metadata": {
    "id": "fzt8O5Zjha_g"
   },
   "source": [
    "### Шаг 5\n",
    "\n",
    "Полученный в пункте 4 классификатор - бэггинг на рандомизированных деревьях (в которых при построении каждой вершины выбирается случайное подмножество признаков и разбиение ищется только по ним). Это в точности соответствует алгоритму Random Forest, поэтому почему бы не сравнить качество работы классификатора с RandomForestClassifier из sklearn.ensemble. Сделайте это, а затем изучите, как качество классификации на данном датасете зависит от количества деревьев, количества признаков, выбираемых при построении каждой вершины дерева, а также ограничений на глубину дерева. Для наглядности постройте графики зависимости качества от значений параметров.\n",
    "\n",
    "На основе наблюдений выпишите через пробел номера правильных утверждений из приведенных ниже в порядке возрастания номера\n",
    "\n",
    "  1. Случайный лес сильно переобучается с ростом количества деревьев\n",
    "  2. При очень маленьком числе деревьев (5, 10, 15), случайный лес работает хуже, чем при большем числе деревьев\n",
    "  3. С ростом количества деревьев в случайном лесе, в какой-то момент деревьев становится достаточно для высокого качества классификации, а затем качество существенно не меняется.\n",
    "  4. При большом количестве признаков (для данного датасета - 40, 50) качество классификации становится хуже, чем при малом количестве признаков (5, 10). Это связано с тем, что чем меньше признаков выбирается в каждом узле, тем более различными получаются деревья (ведь деревья сильно неустойчивы к изменениям в обучающей выборке), и тем лучше работает их композиция.\n",
    "  5. При большом количестве признаков (40, 50, 60) качество классификации лучше, чем при малом количестве признаков (5, 10). Это связано с тем, что чем больше признаков - тем больше информации об объектах, а значит алгоритм может делать прогнозы более точно.\n",
    "  6. При небольшой максимальной глубине деревьев (5-6) качество работы случайного леса намного лучше, чем без ограничения глубины, т.к. деревья получаются не переобученными. С ростом глубины деревьев качество ухудшается.\n",
    "  7. При небольшой максимальной глубине деревьев (5-6) качество работы случайного леса заметно хуже, чем без ограничений, т.к. деревья получаются недообученными. С ростом глубины качество сначала улучшается, а затем не меняется существенно, т.к. из-за усреднения прогнозов и различий деревьев их переобученность в бэггинге не сказывается на итоговом качестве (все деревья преобучены по-разному, и при усреднении они компенсируют переобученность друг-друга)."
   ]
  },
  {
   "cell_type": "code",
   "source": [
    "rf_clf = RandomForestClassifier(n_estimators=100, random_state=42)\n",
    "score_rf_clf = cross_val_score(bclf, X, y, cv=10).mean()"
   ],
   "metadata": {
    "id": "iksN9G7hicTv",
    "ExecuteTime": {
     "end_time": "2024-11-27T08:25:27.372415Z",
     "start_time": "2024-11-27T08:25:18.896949Z"
    }
   },
   "outputs": [],
   "execution_count": 109
  },
  {
   "metadata": {
    "ExecuteTime": {
     "end_time": "2024-11-27T08:25:27.376574Z",
     "start_time": "2024-11-27T08:25:27.372415Z"
    }
   },
   "cell_type": "code",
   "source": [
    "print(\"Random Forest:\", score_rf_clf)\n",
    "print(\"Bagging with random trees\", score_bclf)"
   ],
   "outputs": [
    {
     "name": "stdout",
     "output_type": "stream",
     "text": [
      "Random Forest: 0.9326474239602731\n",
      "Bagging with random trees 0.9326474239602731\n"
     ]
    }
   ],
   "execution_count": 110
  },
  {
   "metadata": {},
   "cell_type": "markdown",
   "source": "#### Действительно, алгоритмы соответствуют друг другу."
  },
  {
   "cell_type": "markdown",
   "metadata": {
    "id": "V6EwstwOha_h"
   },
   "source": [
    "#### Зависимость от количества деревьев"
   ]
  },
  {
   "cell_type": "code",
   "metadata": {
    "id": "RJEFJzwwha_h",
    "ExecuteTime": {
     "end_time": "2024-11-27T08:26:20.348685Z",
     "start_time": "2024-11-27T08:25:27.377592Z"
    }
   },
   "source": [
    "trees_array = [5, 10, 15, 25, 40, 60, 80, 120, 160, 240, 400, 800]\n",
    "score_trees = []\n",
    "for trees in trees_array:\n",
    "    rf_clf = RandomForestClassifier(n_estimators=trees, random_state=42)\n",
    "    score_trees.append(cross_val_score(rf_clf, X, y, cv=10).mean())"
   ],
   "outputs": [],
   "execution_count": 111
  },
  {
   "metadata": {
    "ExecuteTime": {
     "end_time": "2024-11-27T08:26:20.525817Z",
     "start_time": "2024-11-27T08:26:20.350303Z"
    }
   },
   "cell_type": "code",
   "source": [
    "print(tuple(zip(trees_array, score_trees)))\n",
    "sns.lineplot(x=trees_array, y=score_trees)"
   ],
   "outputs": [
    {
     "name": "stdout",
     "output_type": "stream",
     "text": [
      "((5, 0.8787088764742397), (10, 0.9154127870887647), (15, 0.9326722532588454), (25, 0.9404655493482308), (40, 0.9465890751086281), (60, 0.9471260086902544), (80, 0.9488050900062073), (120, 0.9499099937926753), (160, 0.9471260086902544), (240, 0.951576660459342), (400, 0.951576660459342), (800, 0.9499099937926753))\n"
     ]
    },
    {
     "data": {
      "text/plain": [
       "<Axes: >"
      ]
     },
     "execution_count": 112,
     "metadata": {},
     "output_type": "execute_result"
    },
    {
     "data": {
      "text/plain": [
       "<Figure size 640x480 with 1 Axes>"
      ],
      "image/png": "[encoded data removed]"
     },
     "metadata": {},
     "output_type": "display_data"
    }
   ],
   "execution_count": 112
  },
  {
   "cell_type": "markdown",
   "metadata": {
    "id": "mEp4itOCha_i"
   },
   "source": [
    "#### Зависимость от количества признаков"
   ]
  },
  {
   "metadata": {
    "ExecuteTime": {
     "end_time": "2024-11-27T08:26:54.549197Z",
     "start_time": "2024-11-27T08:26:20.526945Z"
    }
   },
   "cell_type": "code",
   "source": [
    "features_array = [5, 10, 40, 50, 60]\n",
    "score_features = []\n",
    "for features in features_array:\n",
    "    rf_clf = RandomForestClassifier(max_features=features, random_state=42, n_estimators=100)\n",
    "    score_features.append(cross_val_score(rf_clf, X, y, cv=10).mean())"
   ],
   "outputs": [],
   "execution_count": 113
  },
  {
   "metadata": {
    "ExecuteTime": {
     "end_time": "2024-11-27T08:26:54.686424Z",
     "start_time": "2024-11-27T08:26:54.549197Z"
    }
   },
   "cell_type": "code",
   "source": [
    "print(tuple(zip(features_array, score_features)))\n",
    "sns.lineplot(x=features_array, y=score_features)"
   ],
   "outputs": [
    {
     "name": "stdout",
     "output_type": "stream",
     "text": [
      "((5, 0.9515890751086282), (10, 0.948792675356921), (40, 0.940983860955928), (50, 0.9331998758535069), (60, 0.9287368094351335))\n"
     ]
    },
    {
     "data": {
      "text/plain": [
       "<Axes: >"
      ]
     },
     "execution_count": 114,
     "metadata": {},
     "output_type": "execute_result"
    },
    {
     "data": {
      "text/plain": [
       "<Figure size 640x480 with 1 Axes>"
      ],
      "image/png": "[encoded data removed]"
     },
     "metadata": {},
     "output_type": "display_data"
    }
   ],
   "execution_count": 114
  },
  {
   "cell_type": "markdown",
   "metadata": {
    "id": "_DuRP3bzha_j"
   },
   "source": [
    "#### Зависимость от глубины деревьев"
   ]
  },
  {
   "cell_type": "code",
   "metadata": {
    "collapsed": true,
    "id": "6U-mgaFUha_j",
    "ExecuteTime": {
     "end_time": "2024-11-27T08:27:11.039179Z",
     "start_time": "2024-11-27T08:26:54.686424Z"
    }
   },
   "source": [
    "depth_array = [2, 3, 4, 5, 6, 8, 10]\n",
    "score_depth = []\n",
    "for depth in depth_array:\n",
    "    rf_clf = RandomForestClassifier(max_depth=depth, random_state=42, n_estimators=100)\n",
    "    score_depth.append(cross_val_score(rf_clf, X, y, cv=10).mean())\n",
    "    \n",
    "rf_clf_inf = RandomForestClassifier(n_estimators=100, random_state=42)\n",
    "score_rf_clf_inf = cross_val_score(rf_clf_inf, X, y, cv=10).mean()"
   ],
   "outputs": [],
   "execution_count": 115
  },
  {
   "metadata": {
    "ExecuteTime": {
     "end_time": "2024-11-27T08:27:11.196435Z",
     "start_time": "2024-11-27T08:27:11.039720Z"
    }
   },
   "cell_type": "code",
   "source": [
    "print(tuple(zip(depth_array, score_depth)))\n",
    "print(\"Inf:\", score_rf_clf_inf)\n",
    "sns.lineplot(x=depth_array, y=score_depth)"
   ],
   "outputs": [
    {
     "name": "stdout",
     "output_type": "stream",
     "text": [
      "((2, 0.8018653010552452), (3, 0.8491837368094352), (4, 0.8809062693978896), (5, 0.9042613283674736), (6, 0.9248541278708877), (8, 0.9359714463066418), (10, 0.951024208566108))\n",
      "Inf: 0.9493544382371197\n"
     ]
    },
    {
     "data": {
      "text/plain": [
       "<Axes: >"
      ]
     },
     "execution_count": 116,
     "metadata": {},
     "output_type": "execute_result"
    },
    {
     "data": {
      "text/plain": [
       "<Figure size 640x480 with 1 Axes>"
      ],
      "image/png": "[encoded data removed]"
     },
     "metadata": {},
     "output_type": "display_data"
    }
   ],
   "execution_count": 116
  },
  {
   "metadata": {},
   "cell_type": "markdown",
   "source": "## Ответ: 2 3 4 7"
  }
 ],
 "metadata": {
  "kernelspec": {
   "display_name": "Python 3 (ipykernel)",
   "language": "python",
   "name": "python3"
  },
  "language_info": {
   "codemirror_mode": {
    "name": "ipython",
    "version": 2
   },
   "file_extension": ".py",
   "mimetype": "text/x-python",
   "name": "python",
   "nbconvert_exporter": "python",
   "pygments_lexer": "ipython2",
   "version": "2.7.11"
  },
  "colab": {
   "provenance": []
  }
 },
 "nbformat": 4,
 "nbformat_minor": 0
}
