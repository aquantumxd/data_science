{
 "cells": [
  {
   "cell_type": "markdown",
   "metadata": {
    "id": "hH9lKOSwUmnb"
   },
   "source": [
    "# Assignment: Оптимизация в Python: глобальная оптимизация и оптимизация негладкой функции\n",
    "\n",
    "### Введение\n",
    "\n",
    "Сначала вы решите задачу поиска минимума функции с помощью одного из градиентных методов оптимизации, затем увидите отличия в работе градиентного метода и одного из методов глобальной оптимизации, а в заключение – найдете глобальный минимум негладкой функции, т.е. функции, у которой не всегда определен градиент.\n",
    "\n",
    "Понимание задачи глобальной оптимизации и отличий градиентных методов, от методов, не использующих градиент, очень полезно в задачах анализа данных, в частности, для подбора параметров алгоритмов.\n",
    "### Материалы\n",
    "\n",
    "    Справка по функциям пакета scipy.optimize: http://docs.scipy.org/doc/scipy/reference/optimize.html\n",
    "    Matplotlib User Guide: http://matplotlib.org/users/index.html\n",
    "\n",
    "### Инструкция по выполнению\n",
    "\n",
    "Данное задание состоит из трех частей. В каждой ответом будет набор чисел"
   ]
  },
  {
   "cell_type": "markdown",
   "metadata": {
    "id": "6QfxSvMXUmnd"
   },
   "source": [
    "http://docs.scipy.org/doc/scipy/reference/optimize.html## Задача 1. Минимизация гладкой функции\n",
    "\n",
    "1. Рассмотрим все ту же функцию из задания по линейной алгебре: f(x) = sin(x / 5) * exp(x / 10) + 5 * exp(-x / 2), но теперь уже на промежутке [1, 30]\n",
    "2. В первом задании будем искать минимум этой функции на заданном промежутке с помощью scipy.optimize. Разумеется, в дальнейшем вы будете использовать методы оптимизации для более сложных функций, а f(x) мы рассмотрим как удобный учебный пример.\n",
    "3. Напишите на Питоне функцию, вычисляющую значение f(x) по известному x. Будьте внимательны: не забывайте про то, что по умолчанию в питоне целые числа делятся нацело, и о том, что функции sin и exp нужно импортировать из модуля math.\n",
    "4. Попробуйте найти минимум, используя стандартные параметры в функции scipy.optimize.minimize (т.е. задав только функцию и начальное приближение). Попробуйте менять начальное приближение и изучить, меняется ли результат.\n",
    "5. Укажите в scipy.optimize.minimize в качестве метода BFGS (один из самых точных в большинстве случаев градиентных методов оптимизации), запустите из начального приближения x=2. Градиент функции при этом указывать не нужно – он будет оценен численно. Полученное значение функции в точке минимума - ваш первый ответ по заданию 1.\n",
    "6. Теперь измените начальное приближение на x=30. Значение функции в точке минимума - ваш второй ответ по заданию 1.\n",
    "7. Стоит обдумать полученный результат. Почему ответ отличается в зависимости от начального приближения? Если нарисовать график функции, можно увидеть, в какие именно минимумы мы попали."
   ]
  },
  {
   "metadata": {
    "ExecuteTime": {
     "end_time": "2024-10-26T12:24:41.434238Z",
     "start_time": "2024-10-26T12:24:41.431150Z"
    }
   },
   "cell_type": "code",
   "source": [
    "import numpy as np\n",
    "from scipy.optimize import minimize, differential_evolution\n",
    "from matplotlib import pyplot as plt"
   ],
   "outputs": [],
   "execution_count": 108
  },
  {
   "metadata": {
    "ExecuteTime": {
     "end_time": "2024-10-26T12:24:41.445785Z",
     "start_time": "2024-10-26T12:24:41.435255Z"
    }
   },
   "cell_type": "code",
   "source": [
    "def f(x):\n",
    "    return np.sin(x / 5.) * np.exp(x / 10.) + 5 * np.exp(-x / 2.)\n",
    "\n",
    "x_1 = 2\n",
    "x_2 = 15\n",
    "x_3 = 30\n",
    "minimum_1 = minimize(f, x0=x_1)\n",
    "minimum_2 = minimize(f, x0=x_2)\n",
    "minimum_3 = minimize(f, x0=x_3)\n",
    "\n",
    "print(f\"Результат с начальным приближением x = {x_1}:\\n\" +\n",
    "      f\"x = {minimum_1.x}, \" + f\"f(x) = {minimum_1.fun}\")\n",
    "print(f\"Результат с начальным приближением x = {x_2}:\\n\" +\n",
    "      f\"x = {minimum_2.x}, \" + f\"f(x) = {minimum_2.fun}\")\n",
    "print(f\"Результат с начальным приближением x = {x_3}:\\n\" +\n",
    "      f\"x = {minimum_3.x}, \" + f\"f(x) = {minimum_3.fun}\")"
   ],
   "outputs": [
    {
     "name": "stdout",
     "output_type": "stream",
     "text": [
      "Результат с начальным приближением x = 2:\n",
      "x = [4.13627628], f(x) = 1.7452682903447336\n",
      "Результат с начальным приближением x = 15:\n",
      "x = [24.67766111], f(x) = -11.503580766270698\n",
      "Результат с начальным приближением x = 30:\n",
      "x = [25.88019321], f(x) = -11.898894665981313\n"
     ]
    }
   ],
   "execution_count": 109
  },
  {
   "metadata": {},
   "cell_type": "markdown",
   "source": "### При x = 1, 15, 30 мы получаем разные минимумы"
  },
  {
   "metadata": {
    "ExecuteTime": {
     "end_time": "2024-10-26T12:24:41.452691Z",
     "start_time": "2024-10-26T12:24:41.445785Z"
    }
   },
   "cell_type": "code",
   "source": [
    "x_bfgs_1 = 2\n",
    "x_bfgs_2 = 30\n",
    "\n",
    "minimum_bfgs_1 = minimize(f, x0=x_bfgs_1, method=\"BFGS\")\n",
    "minimum_bfgs_2 = minimize(f, x0=x_bfgs_2, method=\"BFGS\")\n",
    "\n",
    "\n",
    "print(f\"Результат с начальным приближением x = {x_bfgs_1}:\\n\" +\n",
    "      f\"x = {minimum_bfgs_1.x[0]}, \" + f\"f(x) = {minimum_bfgs_1.fun}\")\n",
    "print(f\"Результат с начальным приближением x = {x_bfgs_2}:\\n\" +\n",
    "      f\"x = {minimum_bfgs_2.x[0]}, \" + f\"f(x) = {minimum_bfgs_2.fun}\")"
   ],
   "outputs": [
    {
     "name": "stdout",
     "output_type": "stream",
     "text": [
      "Результат с начальным приближением x = 2:\n",
      "x = 4.136276281772837, f(x) = 1.7452682903447336\n",
      "Результат с начальным приближением x = 30:\n",
      "x = 25.880193206142593, f(x) = -11.898894665981313\n"
     ]
    }
   ],
   "execution_count": 110
  },
  {
   "metadata": {},
   "cell_type": "markdown",
   "source": [
    "### Получили ответы при x = 2 и x = 30. Ответы разные, потому что при разных x метод \"попадает\" в разные локальные минимумы.\n",
    "### Наглядно представим минимумы и функцию на графике:"
   ]
  },
  {
   "metadata": {
    "ExecuteTime": {
     "end_time": "2024-10-26T12:24:41.543780Z",
     "start_time": "2024-10-26T12:24:41.452691Z"
    }
   },
   "cell_type": "code",
   "source": [
    "x = np.arange(1, 30, 0.1)\n",
    "y = f(x)\n",
    "\n",
    "plt.plot(x, y, color=\"blue\")\n",
    "plt.plot(minimum_bfgs_1.x[0], minimum_bfgs_1.fun, color=\"red\", marker=\"o\")\n",
    "plt.plot(minimum_bfgs_2.x[0], minimum_bfgs_2.fun, color=\"red\", marker=\"o\")\n",
    "plt.grid()"
   ],
   "outputs": [
    {
     "data": {
      "text/plain": [
       "<Figure size 640x480 with 1 Axes>"
      ],
      "image/png": "[encoded data removed]"
     },
     "metadata": {},
     "output_type": "display_data"
    }
   ],
   "execution_count": 111
  },
  {
   "cell_type": "markdown",
   "metadata": {
    "id": "9WVTF6eUUmnf"
   },
   "source": [
    "## Задача 2: Глобальная оптимизация\n",
    "\n",
    "1. Теперь попробуем применить к той же функции f(x) метод глобальной оптимизации - дифференциальную эволюцию.\n",
    "2. Изучите документацию и примеры использования функции scipy.optimize.differential_evolution.\n",
    "3. Обратите внимание, что границы значений аргументов функции представляют собой список кортежей (list, в который помещены объекты типа tuple). Даже если у вас функция одного аргумента, возьмите границы его значений в квадратные скобки, чтобы передавать в этом параметре список из одного кортежа, т.к. в реализации scipy.optimize.differential_evolution длина этого списка используется чтобы определить количество аргументов функции.\n",
    "4. Запустите поиск минимума функции f(x) с помощью дифференциальной эволюции на промежутке [1, 30]. Полученное значение функции в точке минимума - ответ в задаче 2. Запишите его с точностью до второго знака после запятой. В этой задаче ответ - только одно число.\n",
    "5. Дифференциальная эволюция справилась с задачей поиска глобального минимума на отрезке, т.к. по своему устройству она предполагает борьбу с попаданием в локальные минимумы.\n",
    "6. Сравните количество итераций, потребовавшихся BFGS для нахождения минимума при хорошем начальном приближении, с количеством итераций, потребовавшихся дифференциальной эволюции. При повторных запусках дифференциальной эволюции количество итераций будет меняться, но в этом примере, скорее всего, оно всегда будет сравнимым с количеством итераций BFGS. Однако в дифференциальной эволюции за одну итерацию требуется выполнить гораздо больше действий, чем в BFGS. Например, можно обратить внимание на количество вычислений значения функции (nfev) и увидеть, что у BFGS оно значительно меньше. Кроме того, время работы дифференциальной эволюции очень быстро растет с увеличением числа аргументов функции."
   ]
  },
  {
   "metadata": {
    "ExecuteTime": {
     "end_time": "2024-10-26T12:24:41.552628Z",
     "start_time": "2024-10-26T12:24:41.543780Z"
    }
   },
   "cell_type": "code",
   "source": [
    "global_de = differential_evolution(bounds=[(1, 30)], func=f)\n",
    "\n",
    "print(\"Минимум функции на [1, 30] с использованием метода дифференциальной эволюции: \" + f\"{global_de.fun:.2f}\\n\")\n"
   ],
   "outputs": [
    {
     "name": "stdout",
     "output_type": "stream",
     "text": [
      "Минимум функции на [1, 30] с использованием метода дифференциальной эволюции: -11.90\n",
      "\n"
     ]
    }
   ],
   "execution_count": 112
  },
  {
   "cell_type": "markdown",
   "metadata": {
    "id": "hP8wiBxiUmnf"
   },
   "source": [
    "## Задача 3. Минимизация негладкой функции\n",
    "\n",
    "1. Теперь рассмотрим функцию h(x) = int(f(x)) на том же отрезке [1, 30], т.е. теперь каждое значение f(x) приводится к типу int и функция принимает только целые значения.\n",
    "2. Такая функция будет негладкой и даже разрывной, а ее график будет иметь ступенчатый вид. Постройте график h(x) с помощью matplotlib.\n",
    "3. Попробуйте найти минимум функции h(x) с помощью BFGS, взяв в качестве начального приближения x=30. Получившееся значение функции – ваш первый ответ в этой задаче.\n",
    "4. Теперь попробуйте найти минимум h(x) на отрезке [1, 30] с помощью дифференциальной эволюции. Значение функции h(x) в точке минимума – это ваш второй ответ в этом задании.\n",
    "5. Обратите внимание на то, что полученные ответы различаются. Это ожидаемый результат, ведь BFGS использует градиент (в одномерном случае – производную) и явно не пригоден для минимизации рассмотренной нами разрывной функции. Попробуйте понять, почему минимум, найденный BFGS, именно такой (возможно в этом вам поможет выбор разных начальных приближений)."
   ]
  },
  {
   "metadata": {
    "ExecuteTime": {
     "end_time": "2024-10-26T12:24:41.642478Z",
     "start_time": "2024-10-26T12:24:41.552628Z"
    }
   },
   "cell_type": "code",
   "source": [
    "def h(x):\n",
    "    return [int(f(i)) for i in x]\n",
    "    \n",
    "y_h = h(x)\n",
    "\n",
    "minimum_bfgs_h = minimize(h, x0=np.array(30), method=\"BFGS\")\n",
    "minimum_de_h = differential_evolution(bounds=[(1, 30)], func=h)\n",
    "print(\"Найденные минимумы функции h(x) с помощью разных методов:\")\n",
    "print(\"BFGS: \" + str(minimum_bfgs_h.fun))\n",
    "print(\"Differential Evolution: \" + str(minimum_de_h.fun))\n",
    "\n",
    "plt.plot(x, y_h, color='blue')\n",
    "plt.plot(minimum_bfgs_h.x, minimum_bfgs_h.fun, color='red', marker=\"o\")\n",
    "plt.plot(minimum_de_h.x, minimum_de_h.fun, color='red', marker=\"o\")"
   ],
   "outputs": [
    {
     "name": "stdout",
     "output_type": "stream",
     "text": [
      "Найденные минимумы функции h(x) с помощью разных методов:\n",
      "BFGS: -5\n",
      "Differential Evolution: -11.0\n"
     ]
    },
    {
     "data": {
      "text/plain": [
       "[<matplotlib.lines.Line2D at 0x1bd1e6fa1e0>]"
      ]
     },
     "execution_count": 113,
     "metadata": {},
     "output_type": "execute_result"
    },
    {
     "data": {
      "text/plain": [
       "<Figure size 640x480 with 1 Axes>"
      ],
      "image/png": "[encoded data removed]"
     },
     "metadata": {},
     "output_type": "display_data"
    }
   ],
   "execution_count": 113
  },
  {
   "metadata": {},
   "cell_type": "markdown",
   "source": "###"
  },
  {
   "metadata": {},
   "cell_type": "markdown",
   "source": "### BFGS не умеет справляться со ступенчатыми функциями, так как использует градиент, чтобы найти направление спуска функции."
  }
 ],
 "metadata": {
  "kernelspec": {
   "display_name": "Python 3 (ipykernel)",
   "language": "python",
   "name": "python3"
  },
  "language_info": {
   "codemirror_mode": {
    "name": "ipython",
    "version": 2
   },
   "file_extension": ".py",
   "mimetype": "text/x-python",
   "name": "python",
   "nbconvert_exporter": "python",
   "pygments_lexer": "ipython2",
   "version": "2.7.5"
  },
  "colab": {
   "provenance": []
  }
 },
 "nbformat": 4,
 "nbformat_minor": 0
}
