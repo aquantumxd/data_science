{
 "cells": [
  {
   "cell_type": "markdown",
   "metadata": {
    "id": "hDCOzlwwjqpT"
   },
   "source": [
    "## Задача 1: сравнение предложений\n",
    "\n",
    "Дан набор предложений, скопированных с Википедии. Каждое из них имеет \"кошачью тему\" в одном из трех смыслов:\n",
    "\n",
    "  * кошки (животные)\n",
    "  * UNIX-утилита cat для вывода содержимого файлов\n",
    "  * версии операционной системы OS X, названные в честь семейства кошачьих\n",
    "Ваша задача — найти два предложения, которые ближе всего по смыслу к расположенному в самой первой строке. В качестве меры близости по смыслу мы будем использовать косинусное расстояние.\n",
    "\n",
    "#### Выполните следующие шаги:\n",
    "\n",
    "1. Скачайте файл с предложениями (sentences.txt).\n",
    "2. Каждая строка в файле соответствует одному предложению. Считайте их, приведите каждую к нижнему регистру с помощью строковой функции lower().\n",
    "3. Произведите токенизацию, то есть разбиение текстов на слова. Для этого можно воспользоваться регулярным выражением, которое считает разделителем любой символ, не являющийся буквой: re.split('[^a-z]', t). Не забудьте удалить пустые слова после разделения.\n",
    "4. Составьте список всех слов, встречающихся в предложениях. Сопоставьте каждому слову индекс от нуля до (d - 1), где d — число различных слов в предложениях. Для этого удобно воспользоваться структурой dict.\n",
    "5. Создайте матрицу размера n x d, где n — число предложений. Заполните ее: элемент с индексом (i, j) в этой матрице должен быть равен количеству вхождений j-го слова в i-е предложение. У вас должна получиться матрица размера 22 * 254.\n",
    "6. Найдите косинусное расстояние от предложения в самой первой строке (In comparison to dogs, cats have not undergone...) до всех остальных с помощью функции scipy.spatial.distance.cosine. Какие номера у двух предложений, ближайших к нему по этому расстоянию (строки нумеруются с нуля)? Эти два числа и будут ответами на задание.\n",
    "7. Совпадают ли ближайшие два предложения по тематике с первым? Совпадают ли тематики у следующих по близости предложений?\n",
    "\n",
    "Разумеется, использованный вами метод крайне простой. Например, он не учитывает формы слов (так, cat и cats он считает разными словами, хотя по сути они означают одно и то же), не удаляет из текстов артикли и прочие ненужные слова."
   ]
  },
  {
   "metadata": {
    "ExecuteTime": {
     "end_time": "2024-10-25T13:15:11.410260Z",
     "start_time": "2024-10-25T13:15:11.407290Z"
    }
   },
   "cell_type": "code",
   "source": [
    "import numpy as np\n",
    "from scipy import spatial\n",
    "import re"
   ],
   "outputs": [],
   "execution_count": 56
  },
  {
   "cell_type": "code",
   "metadata": {
    "id": "Uj-UEBEPmDLJ",
    "ExecuteTime": {
     "end_time": "2024-10-25T13:15:11.433111Z",
     "start_time": "2024-10-25T13:15:11.428834Z"
    }
   },
   "source": [
    "def to_words(text):\n",
    "    words = re.split('[^a-z]', text)\n",
    "\n",
    "    while '' in words:\n",
    "        words.remove('')\n",
    "    \n",
    "    return words\n",
    "    \n",
    "    \n",
    "f = open('sentences.txt').read()\n",
    "orig_sentences = f.splitlines()\n",
    "\n",
    "text = f.lower()\n",
    "\n",
    "sentences = [to_words(sentence) for sentence in text.splitlines()]\n",
    "words = {value: index for index, value in enumerate(set(to_words(text)))}\n"
   ],
   "outputs": [],
   "execution_count": 57
  },
  {
   "cell_type": "code",
   "metadata": {
    "ExecuteTime": {
     "end_time": "2024-10-25T13:15:11.449963Z",
     "start_time": "2024-10-25T13:15:11.446153Z"
    }
   },
   "source": [
    "matrix = np.zeros((len(sentences), len(words)))\n",
    "for i in range(len(sentences)):\n",
    "    for sentence_word in sentences[i]:\n",
    "        matrix[i][words[sentence_word]] += 1"
   ],
   "outputs": [],
   "execution_count": 58
  },
  {
   "cell_type": "code",
   "metadata": {
    "ExecuteTime": {
     "end_time": "2024-10-25T13:15:11.454202Z",
     "start_time": "2024-10-25T13:15:11.449963Z"
    }
   },
   "source": [
    "cos_distances = []\n",
    "\n",
    "for i in range(1, len(sentences)):\n",
    "    cos_distances.append(spatial.distance.cosine(matrix[0], matrix[i]))\n",
    "    \n",
    "cos_distances = sorted(enumerate(cos_distances, start=1), key=lambda x: x[1])"
   ],
   "outputs": [],
   "execution_count": 59
  },
  {
   "cell_type": "code",
   "metadata": {
    "ExecuteTime": {
     "end_time": "2024-10-25T13:15:11.458622Z",
     "start_time": "2024-10-25T13:15:11.454202Z"
    }
   },
   "source": [
    "\n",
    "\n",
    "print(\"Indexes of two closest sentences: \" + str(cos_distances[0][0]) + \", \" + str(cos_distances[1][0]) + \".\\n\")\n",
    "print(\"First sentence: \" + orig_sentences[0] + '\\n')\n",
    "\n",
    "\n",
    "for index, cos_distance in cos_distances:\n",
    "    print(f\"{index:<2}\", cos_distance, orig_sentences[index])"
   ],
   "outputs": [
    {
     "name": "stdout",
     "output_type": "stream",
     "text": [
      "Indexes of two closest sentences: 6, 4.\n",
      "\n",
      "First sentence: In comparison to dogs, cats have not undergone major changes during the domestication process.\n",
      "\n",
      "6  0.7327387580875756 Domestic cats are similar in size to the other members of the genus Felis, typically weighing between 4 and 5 kg (8.8 and 11.0 lb).\n",
      "4  0.7770887149698589 In one, people deliberately tamed cats in a process of artificial selection, as they were useful predators of vermin.\n",
      "21 0.8250364469440588 The fifth major update to Mac OS X, Leopard, contains such a mountain of features - more than 300 by Apple's count.\n",
      "10 0.8328165362273942 Cat command is one of the basic commands that you learned when you started in the Unix / Linux world.\n",
      "12 0.8396432548525454 When you type simply cat command without any arguments, it just receives the stdin content and displays it in the stdout.\n",
      "16 0.8406361854220809 Since Apple moved to using Intel processors in their computers, the OSx86 community has developed and now also allows Mac OS X Tiger and later releases to be installed on non-Apple x86-based computers.\n",
      "20 0.8427572744917122 Mac OS X Mountain Lion installs in place, so you won't need to create a separate disk or run the installation off an external drive.\n",
      "2  0.8644738145642124 A common interactive use of cat for a single file is to output the content of a file to standard output.\n",
      "13 0.8703592552895671 Leopard was released on October 26, 2007 as the successor of Tiger (version 10.4), and is available in two editions.\n",
      "14 0.8740118423302576 According to Apple, Leopard contains over 300 changes and enhancements over its predecessor, Mac OS X Tiger.\n",
      "11 0.8804771390665607 Using cat command, the lines received from stdin can be redirected to a new file using redirection symbols.\n",
      "8  0.8842724875284311 cat with one named file is safer where human error is a concern - one wrong use of the default redirection symbol \">\" instead of \"<\" (often adjacent on keyboards) may permanently delete the file you were just needing to read.\n",
      "19 0.8885443574849294 The Mountain Lion release marks the second time Apple has offered an incremental upgrade, rather than releasing a new cat entirely.\n",
      "3  0.8951715163278082 Cats can hear sounds too faint or too high in frequency for human ears, such as those made by mice and other small animals.\n",
      "9  0.9055088817476932 In terms of legibility, a sequence of commands starting with cat and connected by pipes has a clear left-to-right flow of information.\n",
      "7  0.9258750683338899 However, if the output is piped or redirected, cat is unnecessary.\n",
      "5  0.9402385695332803 The domesticated cat and its closest wild ancestor are both diploid organisms that possess 38 chromosomes and roughly 20,000 genes.\n",
      "15 0.9442721787424647 As of Mid 2010, some Apple computers have firmware factory installed which will no longer allow installation of Mac OS X Leopard.\n",
      "18 0.9442721787424647 Apple has released a small patch for the three most recent versions of Safari running on OS X Yosemite, Mavericks, and Mountain Lion.\n",
      "1  0.9527544408738466 As cat simply catenates streams of bytes, it can be also used to concatenate binary files, where it will just concatenate sequence of bytes.\n",
      "17 0.956644501523794 OS X Mountain Lion was released on July 25, 2012 for purchase and download through Apple's Mac App Store, as part of a switch to releasing OS X versions online and every year.\n"
     ]
    }
   ],
   "execution_count": 60
  },
  {
   "metadata": {},
   "cell_type": "markdown",
   "source": "## Тематики первых двух предложений совпадают, однако у ближайших последующих предложений - не совпадают."
  },
  {
   "cell_type": "markdown",
   "metadata": {
    "id": "jFwBv2f0jqpV"
   },
   "source": [
    "## Задача 2: аппроксимация функции\n",
    "\n",
    "Рассмотрим сложную математическую функцию на отрезке[1, 15]:\n",
    "\n",
    "f(x) = sin(x / 5) * exp(x / 10) + 5 * exp(-x / 2)\n",
    "\n",
    "Она может описывать, например, зависимость оценок, которые выставляют определенному сорту вина эксперты, в зависимости от возраста этого вина. По сути, задача машинного обучения состоит в том, чтобы приблизить сложную зависимость с помощью функции из определенного семейства. В этом задании мы будем приближать указанную функцию с помощью многочленов.\n",
    "\n",
    "Как известно, многочлен степени n (то есть w_0 + w_1 x + w_2 x^2 + ... + w_n x^n) однозначно определяется любыми n + 1 различными точками, через которые он проходит. Это значит, что его коэффициенты w_0, ... w_n можно определить из следующей системы линейных уравнений:\n",
    "\n",
    "\n",
    "где через x_1, ..., x_n, x_{n+1} обозначены точки, через которые проходит многочлен, а через f(x_1), ..., f(x_n), f(x_{n+1}) — значения, которые он должен принимать в этих точках.\n",
    "\n",
    "Воспользуемся описанным свойством, и будем находить приближение функции многочленом, решая систему линейных уравнений.\n",
    "\n",
    "1. Сформируйте систему линейных уравнений (то есть задайте матрицу коэффициентов A и свободный вектор b) для многочлена первой степени, который должен совпадать с функцией f в точках 1 и 15. Решите данную систему с помощью функции scipy.linalg.solve. Нарисуйте функцию f и полученный многочлен. Хорошо ли он приближает исходную функцию?\n",
    "2. Повторите те же шаги для многочлена второй степени, который совпадает с функцией f в точках 1, 8 и 15. Улучшилось ли качество аппроксимации?\n",
    "3. Повторите те же шаги для многочлена третьей степени, который совпадает с функцией f в точках 1, 4, 10 и 15. Хорошо ли он аппроксимирует функцию?"
   ]
  },
  {
   "cell_type": "code",
   "metadata": {
    "collapsed": true,
    "id": "wPVgMwOXjqpV",
    "ExecuteTime": {
     "end_time": "2024-10-25T13:15:11.474434Z",
     "start_time": "2024-10-25T13:15:11.470010Z"
    }
   },
   "source": [
    "%matplotlib inline\n",
    "import math\n",
    "from matplotlib import pyplot as plt\n",
    "from scipy.linalg import solve\n",
    "\n",
    "def f(x):\n",
    "    return math.sin(x/5.)*math.exp(x/10.) + 5*math.exp(-x/2.)"
   ],
   "outputs": [],
   "execution_count": 61
  },
  {
   "cell_type": "code",
   "metadata": {
    "id": "zsWKG6gXjqpV",
    "ExecuteTime": {
     "end_time": "2024-10-25T13:15:11.504317Z",
     "start_time": "2024-10-25T13:15:11.500735Z"
    }
   },
   "source": [
    "x = np.arange(1, 16, 0.1)\n",
    "y = list(map(f, x))"
   ],
   "outputs": [],
   "execution_count": 62
  },
  {
   "metadata": {
    "ExecuteTime": {
     "end_time": "2024-10-25T13:15:11.518376Z",
     "start_time": "2024-10-25T13:15:11.512023Z"
    }
   },
   "cell_type": "code",
   "source": [
    "def approx(order, points, func):\n",
    "    A = np.zeros((order + 1, len(points)))\n",
    "    for i in range(len(points)):\n",
    "        for j in range(order + 1):\n",
    "            A[i][j] = pow(points[i], j)\n",
    "    B = np.array([func(point) for point in points])\n",
    "    coeffs = solve(A, B)\n",
    "    return coeffs\n",
    "\n",
    "coeffs1 = approx(1, [1, 15], f)\n",
    "coeffs2 = approx(2, [1, 8, 15], f)\n",
    "coeffs3 = approx(3, [1, 4, 10, 15], f)"
   ],
   "outputs": [],
   "execution_count": 63
  },
  {
   "cell_type": "code",
   "metadata": {
    "id": "rblCvPKQjqpV",
    "outputId": "69d72eaf-38db-48e0-b233-8ef58564c911",
    "ExecuteTime": {
     "end_time": "2024-10-25T13:15:11.523666Z",
     "start_time": "2024-10-25T13:15:11.519910Z"
    }
   },
   "source": [
    "def polynomial(coeffs, x_array):\n",
    "    points = []\n",
    "    for x in x_array:\n",
    "        points.append(sum(c * x**i for i, c in enumerate(coeffs)))\n",
    "    return points\n",
    "\n",
    "y_approx_1 = polynomial(coeffs1, x)\n",
    "y_approx_2 = polynomial(coeffs2, x)\n",
    "y_approx_3 = polynomial(coeffs3, x)"
   ],
   "outputs": [],
   "execution_count": 64
  },
  {
   "cell_type": "code",
   "metadata": {
    "collapsed": true,
    "id": "p3gJESNnjqpW",
    "ExecuteTime": {
     "end_time": "2024-10-25T13:15:11.621060Z",
     "start_time": "2024-10-25T13:15:11.523666Z"
    }
   },
   "source": [
    "plt.plot(x, y, color='blue')\n",
    "plt.plot(x, y_approx_1, color='red')\n",
    "plt.plot(x, y_approx_2, color='green')\n",
    "plt.plot(x, y_approx_3, color='yellow')"
   ],
   "outputs": [
    {
     "data": {
      "text/plain": [
       "[<matplotlib.lines.Line2D at 0x235258f4a40>]"
      ]
     },
     "execution_count": 65,
     "metadata": {},
     "output_type": "execute_result"
    },
    {
     "data": {
      "text/plain": [
       "<Figure size 640x480 with 1 Axes>"
      ],
      "image/png": "[encoded data removed]"
     },
     "metadata": {},
     "output_type": "display_data"
    }
   ],
   "execution_count": 65
  },
  {
   "metadata": {},
   "cell_type": "markdown",
   "source": "## Первая линейная аппроксимация плохо приближает данную функцию. Квадратная аппроксимация практически не улучшает приближение, относительно прошлой аппроксимации. Кубическая аппроксимация справилась с задачей куда лучше и качественней, учитывая выпуклости функции. "
  }
 ],
 "metadata": {
  "colab": {
   "provenance": []
  },
  "kernelspec": {
   "display_name": "Python 3",
   "language": "python",
   "name": "python3"
  },
  "language_info": {
   "codemirror_mode": {
    "name": "ipython",
    "version": 3
   },
   "file_extension": ".py",
   "mimetype": "text/x-python",
   "name": "python",
   "nbconvert_exporter": "python",
   "pygments_lexer": "ipython3",
   "version": "3.12.3"
  }
 },
 "nbformat": 4,
 "nbformat_minor": 0
}
