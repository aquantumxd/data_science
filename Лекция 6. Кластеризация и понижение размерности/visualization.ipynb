{
 "cells": [
  {
   "cell_type": "markdown",
   "metadata": {
    "id": "DKL8konBw_Af"
   },
   "source": [
    "# Визуализация данных"
   ]
  },
  {
   "cell_type": "markdown",
   "metadata": {
    "id": "urdq2sqmw_Ah"
   },
   "source": [
    "Визуализация данных - первый шаг в решении практически любой задачи анализа данных, в частности, при участии в соревновании. Визуализация помогает решить, какую предобработку данных нужно провести, какие методы лучше использовать для предсказания, какие признаки добавить. В этом Peer Review мы будем работать с данными [kaggle-соревнования](https://www.kaggle.com/c/prudential-life-insurance-assessment), завершившегося зимой 2016 года.\n",
    "\n",
    "__Задача соревнования:__ по характеристикам человека и его заявки на медицинскую страховку предсказать степень риска, характерную для данной страховки.\n",
    "\n",
    "__Что предстоит сделать:__\n",
    "* рассматривать данные;\n",
    "* пробовать разные методы визуализации;\n",
    "* анализировать графики и пытаться сделать выводы, полезные для следующих этапов решения задачи.\n",
    "\n",
    "Целевой признак (степень риска) в задаче номинальный: целые числа от 1 до 8, а метрика качества, предложенная организаторами соревнования, оценивает степень согласованности двух рейтингов. Поэтому задачу можно решать и методами классификации, и методами регрессии (в последнем случае придется округлять предсказания). Это стоит учитывать при анализе результатов визуализации.\n",
    "\n",
    "Мы будем визуализировать только обучающую выборку. Часто при решении конкурсов полезно визуализировать также тестовую выборку (на которой нужно сделать предсказание), чтобы убедиться, что данные идентичны.\n",
    "\n",
    "Визуализацию в python часто делают с помощью библиотеки seaborn. Установить ее можно командой pip install seaborn. Если вы по каким-то причинам не можете установить библиотеку, вам придется строить некоторые графики самостоятельно или использовать их аналоги в pyplot. Pandas также использует seaborn, чтобы строить графики."
   ]
  },
  {
   "cell_type": "code",
   "metadata": {
    "id": "JmqpnvmZw_Ai",
    "ExecuteTime": {
     "end_time": "2024-12-02T10:08:19.247324Z",
     "start_time": "2024-12-02T10:08:19.236309Z"
    }
   },
   "source": [
    "import numpy as np\n",
    "import pandas\n",
    "from matplotlib import pyplot as plt\n",
    "import seaborn as sns\n",
    "%matplotlib inline"
   ],
   "execution_count": 2,
   "outputs": []
  },
  {
   "cell_type": "markdown",
   "metadata": {
    "id": "JnQNfCkOw_Aj"
   },
   "source": [
    "Считываем данные:"
   ]
  },
  {
   "cell_type": "code",
   "metadata": {
    "id": "xrIUQ8oww_Ak",
    "ExecuteTime": {
     "end_time": "2024-12-02T10:08:19.645418Z",
     "start_time": "2024-12-02T10:08:19.344407Z"
    }
   },
   "source": [
    "data = pandas.read_csv(\"train.csv\", na_values=\"NaN\")"
   ],
   "execution_count": 3,
   "outputs": []
  },
  {
   "cell_type": "code",
   "metadata": {
    "id": "HvINiOfYw_Ak",
    "ExecuteTime": {
     "end_time": "2024-12-02T10:08:19.660734Z",
     "start_time": "2024-12-02T10:08:19.645418Z"
    }
   },
   "source": [
    "data.head()"
   ],
   "execution_count": 4,
   "outputs": []
  },
  {
   "cell_type": "code",
   "metadata": {
    "id": "t1I-r5nXw_Al",
    "ExecuteTime": {
     "end_time": "2024-12-02T10:08:19.665666Z",
     "start_time": "2024-12-02T10:08:19.660734Z"
    }
   },
   "source": [
    "real_features = [\"Product_Info_4\", \"Ins_Age\", \"Ht\", \"Wt\", \"BMI\", \"Employment_Info_1\", \"Employment_Info_4\", \"Employment_Info_6\",\n",
    "                 \"Insurance_History_5\", \"Family_Hist_2\", \"Family_Hist_3\", \"Family_Hist_4\", \"Family_Hist_5\"]\n",
    "discrete_features = [\"Medical_History_1\", \"Medical_History_10\", \"Medical_History_15\", \"Medical_History_24\", \"Medical_History_32\"]\n",
    "cat_features = data.columns.drop(real_features).drop(discrete_features).drop([\"Id\", \"Response\"]).tolist()"
   ],
   "execution_count": 5,
   "outputs": []
  },
  {
   "cell_type": "markdown",
   "metadata": {
    "id": "As5Meyjkw_Al"
   },
   "source": [
    "### Первичный анализ"
   ]
  },
  {
   "cell_type": "markdown",
   "metadata": {
    "id": "W1cX73GBw_Am"
   },
   "source": [
    "Сначала рассмотрим числовые признаки, затем - категориальные.\n",
    "\n",
    "##### Выведем статистики вещественных и целочисленных признаков:"
   ]
  },
  {
   "metadata": {
    "ExecuteTime": {
     "end_time": "2024-12-02T10:08:19.677523Z",
     "start_time": "2024-12-02T10:08:19.666977Z"
    }
   },
   "cell_type": "code",
   "source": [
    "print(data.shape)\n",
    "print(\"half:\", data.shape[0]/2)\n",
    "data[real_features].isna().sum()"
   ],
   "execution_count": 6,
   "outputs": []
  },
  {
   "metadata": {
    "ExecuteTime": {
     "end_time": "2024-12-02T10:08:19.685434Z",
     "start_time": "2024-12-02T10:08:19.678577Z"
    }
   },
   "cell_type": "code",
   "source": "data[discrete_features].isna().sum()",
   "execution_count": 7,
   "outputs": []
  },
  {
   "metadata": {
    "ExecuteTime": {
     "end_time": "2024-12-02T10:08:19.709845Z",
     "start_time": "2024-12-02T10:08:19.685434Z"
    }
   },
   "cell_type": "code",
   "source": [
    "print(\"Min (real)\\n\", data[real_features].min())\n",
    "print(\"\\nMax (real)\\n\", data[real_features].max())\n",
    "print(\"\\nMin (discrete)\\n\", data[discrete_features].min())\n",
    "print(\"\\nMax (discrete)\\n\", data[discrete_features].max())"
   ],
   "execution_count": 8,
   "outputs": []
  },
  {
   "cell_type": "markdown",
   "metadata": {
    "id": "6FZku-Guw_An"
   },
   "source": [
    "__Ответьте на вопросы:__\n",
    "* Есть ли пропуски в данных? Перечислите вещественные и целочисленные признаки, которые известны для всех объектов.\n",
    "   * Ответ: пропуски есть. Признаки в которых нет пропусков: Product_Info_4, Ins_Age, Ht, Wt, BMI\n",
    "* Перечислите вещественные и целочисленные признаки, значение которых известно менее, чем для половины объектов.\n",
    "   * Ответ: Medical_History_10, Medical_History_15, Medical_History_24, Medical_History_32\n",
    "* Одинаков ли масштаб вещественных признаков? Масштаб целочисленных признаков?\n",
    "    * Ответ: Масштабы что у вещественных признаков, что у целочисленных одинаков\n",
    "\n",
    "$^*$ Будем считать, что масштаб двух признаков одинаков, если их минимумы отличаются не более, чем в 2 раза, и аналогично с максимумами."
   ]
  },
  {
   "cell_type": "markdown",
   "metadata": {
    "id": "nh9Yqeosw_An"
   },
   "source": [
    "Мы видим, что в датасете есть признаки, которые не известны почти для всех объектов. Кроме того, легко проверить, что в выборке нет объектов, для которых известны все признаки, даже если рассматривать только вещественные. Значит, при решении задачи нужно было бы использовать более сложные методы обработки пропусков, чем удаление объектов."
   ]
  },
  {
   "cell_type": "markdown",
   "metadata": {
    "id": "c6V2wSa3w_An"
   },
   "source": [
    "##### Постройте гистограммы вещественных и целочисленных признаков.\n",
    "Вместо того, чтобы в цикле по признакам строить отдельно каждую гистограмму, стоит воспользоваться методом hist датафрейма. Рекомендуется отдельно вывести гистограммы вещественных и целочисленных признаков. Установите размер изображения (20, 20) для первой группы признаков и  (10, 10) для второй, для обеих групп bins=100."
   ]
  },
  {
   "cell_type": "code",
   "metadata": {
    "id": "nYDkb8yGw_An",
    "ExecuteTime": {
     "end_time": "2024-12-02T10:08:23.493625Z",
     "start_time": "2024-12-02T10:08:19.709845Z"
    }
   },
   "source": [
    "# Код 1. Постройте гистограммы.\n",
    "data[real_features].hist(bins=100, figsize=(20, 20))\n",
    "data[discrete_features].hist(bins=100, figsize=(10, 10))"
   ],
   "execution_count": 9,
   "outputs": []
  },
  {
   "cell_type": "markdown",
   "metadata": {
    "id": "nXBMjD4fw_An"
   },
   "source": [
    "__Ответьте на вопросы:__\n",
    "* Есть ли константные признаки среди вещественных и целочисленных? Признак является константным, если множество его значений состоит из единственного элемента.\n",
    "    * Ответ: Нету.\n",
    "* Предположим, что мы составили выборку, в которую вошли все и только вещественные признаки. Можно ли ее описать многомерным нормальным распределением? $^*$\n",
    "    * Ответ: Нет, некоторые признаки (например, Product_Info_4) не куполообразны и даже близко несимметричны.\n",
    "    \n",
    "$^*$\n",
    "Плотность многомерного нормального распределения во всех проекциях на отдельные переменные должна быть симметрична, куполообразна, а значит, унимодальна."
   ]
  },
  {
   "cell_type": "markdown",
   "metadata": {
    "id": "volxu7yow_An"
   },
   "source": [
    "Среди вещественных есть признаки с очень большим перекосом в сторону какого-то одного значения (например, Employmennt_Info_4), возможно, их стоило бы прологарифмировать при решении задачи. Кроме того, есть признаки со сложной структурой гистограммы.\n",
    "Распределения целочисленных признаков (относящихся к группе медицинских) имеют схожую структуру.\n",
    "\n",
    "В целом данные разнородны, и описать их одним вероятностным распределением непросто."
   ]
  },
  {
   "cell_type": "markdown",
   "metadata": {
    "id": "OpOvgK6ow_An"
   },
   "source": [
    "##### Теперь визуализируем признаки попарно.\n",
    "Построим scatterplot для пар вещественных признаков. Для этого в seaborn есть функция pairplot. Исключим признаки, распределение которых не похоже на колокол (хотя бы скошенный и неровный), тем самым мы уменьшим размер таблицы пар. На диагоналях таблицы будут стоять оценки распределений признаков (гистограммы или восстановленные плотности, diag_kind=\"hist\" или \"kde\"). Если указать параметр hue = дискретный целевой признак, то разные его значения будут отображаться разными цветами."
   ]
  },
  {
   "cell_type": "code",
   "source": [
    "sns.pairplot(data[real_features].drop([\"Product_Info_4\",\n",
    "                                       \"Employment_Info_1\",\n",
    "                                       \"Employment_Info_4\",\n",
    "                                       \"Employment_Info_6\",\n",
    "                                       \"Insurance_History_5\"], axis=1))"
   ],
   "metadata": {
    "id": "ZucrCcL9zHAy",
    "ExecuteTime": {
     "end_time": "2024-12-02T10:08:39.959704Z",
     "start_time": "2024-12-02T10:08:23.495659Z"
    }
   },
   "execution_count": 10,
   "outputs": []
  },
  {
   "cell_type": "markdown",
   "metadata": {
    "id": "bepUu786w_An"
   },
   "source": [
    "Классы накрывают друг друга, и графики не очень информативны. Но они позволяют ответить на некоторые вопросы о взаимоотношениях признаков и соотношений признаков и классов."
   ]
  },
  {
   "cell_type": "markdown",
   "metadata": {
    "id": "SC4yvborw_An"
   },
   "source": [
    "__Ответьте на вопросы:__\n",
    "* Есть ли пары признаков, у которых облака точек разных классов отличаются? Иными словами, есть ли графики, на которых видны облака разных классов, а не только последнего нарисованного?\n",
    "    * Ответ: Есть, например Family_Hist_5\n",
    "* Есть ли объекты-выбросы, то есть такие точки, которые стоят далеко от общего облака точек?\n",
    "    * Ответ: Есть, например в сравнении c признаком Ht"
   ]
  },
  {
   "cell_type": "markdown",
   "metadata": {
    "id": "6caqq1EEw_An"
   },
   "source": [
    "В целом облака точек выглядят достаточно компактно (в неформальном понимании этого слова), их можно приблизить искривленным кругом."
   ]
  },
  {
   "cell_type": "markdown",
   "metadata": {
    "id": "LY43vgotw_An"
   },
   "source": [
    "Теперь постройте такие же графики для целочисленных признаков (никакие признаки удалять не нужно, потому что таких признаков и так немного)."
   ]
  },
  {
   "cell_type": "code",
   "source": "sns.pairplot(data[discrete_features])",
   "metadata": {
    "id": "wRxc9fXzzFe8",
    "ExecuteTime": {
     "end_time": "2024-12-02T10:08:45.408408Z",
     "start_time": "2024-12-02T10:08:39.960755Z"
    }
   },
   "execution_count": 11,
   "outputs": []
  },
  {
   "cell_type": "markdown",
   "metadata": {
    "id": "Qf69k6JYw_Ao"
   },
   "source": [
    "Графики выглядят еще менее информативно. Заметна тенденция, что пары признаков сконцентрированы либо на сторона квадрата [0, 240] x [0, 240], либо на его диагонали, то есть признаки как-то связаны."
   ]
  },
  {
   "cell_type": "markdown",
   "metadata": {
    "id": "f3jYf0quw_Ao"
   },
   "source": [
    "##### Посмотрим на корреляции признаков, чтобы узнать, не нужно ли удалять какие-то признаки перед (гипотетическим) построением модели.\n",
    "\n",
    "Для визуализации матрицы попарных корреляций удобно использовать функцию seaborn.heatmap, она автоматически подпишет признаки на осях и покажет colorbar. Мы вычисляем корреляции только между вещественными признаками, для целочисленных признаков корреляции вычисляется по другим формулам."
   ]
  },
  {
   "cell_type": "code",
   "metadata": {
    "id": "1Wy6zpIsw_Ao",
    "ExecuteTime": {
     "end_time": "2024-12-02T10:08:45.931005Z",
     "start_time": "2024-12-02T10:08:45.409427Z"
    }
   },
   "source": [
    "plt.figure(figsize=(10, 5))\n",
    "sns.heatmap(data[real_features].corr(), cmap=\"coolwarm\", annot=True)"
   ],
   "execution_count": 12,
   "outputs": []
  },
  {
   "cell_type": "markdown",
   "metadata": {
    "id": "676zknpmw_Ao"
   },
   "source": [
    "__Ответьте на вопрос__:\n",
    "* Есть ли пара (несовпадающих) признаков, корреляция между которыми больше 0.9 (можно проверить программно)? Если есть, то выпишите эту пару. Матрица корреляций симметрична, и дважды выписывать одну пару признаков не нужно.\n",
    "    * Ответ: (Family_Hist_2, Family_Hist_4)"
   ]
  },
  {
   "cell_type": "markdown",
   "metadata": {
    "id": "xyCTkDNgw_Ao"
   },
   "source": [
    "Перейдем к визуализации категориальных признаков.\n",
    "\n",
    "##### Посчитаем количество значений для каждого признака.\n",
    "Строим много графиков вручную (а не с помощью готовой функции, как с hist или pairplot). Для этого создаем новую pyplot-фигуру, указываем, сколько графиков на ней будет, задаем размер; параметр sharey говорит не подписывать все оси отдельно, а подписать их только один раз слева; здесь это уместно, потому что масштабы всех счетчиков одни и те же.\n",
    "\n",
    "В цикле по всем категориальным признакам строим countplot признака с помощью seaborn. Указываем параметр data, какой признак визуализировать, а также передаем ссылку на конкретную ячейку таблицы, в которой нужно изобразить график. Признаков всего 108, поэтому последние две ячейки таблицы графиков размером 11 x 10 останутся пустыми."
   ]
  },
  {
   "cell_type": "code",
   "metadata": {
    "id": "EkSbkoZXw_Ao",
    "ExecuteTime": {
     "end_time": "2024-12-02T10:09:06.576240Z",
     "start_time": "2024-12-02T10:08:45.932299Z"
    }
   },
   "source": [
    "n_rows, n_cols = 18, 6\n",
    "fig, axes = plt.subplots(n_rows, n_cols, figsize=(15, 75) , sharey=True)\n",
    "\n",
    "for i, col in enumerate(cat_features):\n",
    "    row, col_idx = divmod(i, n_cols)\n",
    "    sns.countplot(data=data, x=col, ax=axes[row, col_idx])\n",
    "    axes[row, col_idx].tick_params(axis='x', rotation=45)"
   ],
   "execution_count": 13,
   "outputs": []
  },
  {
   "cell_type": "markdown",
   "metadata": {
    "id": "iFZm5QiQw_Ao"
   },
   "source": [
    "__Ответьте на вопросы (Блок 5)__:\n",
    "* Есть ли среди категориальных признаков константные?\n",
    "    * Ответ: Есть\n",
    "* Есть ли признаки с количеством возможных категорий (число значений признака) больше 5?\n",
    "    * Ответ: Есть"
   ]
  },
  {
   "cell_type": "markdown",
   "metadata": {
    "collapsed": true,
    "id": "w1DnM6Ktw_Ao"
   },
   "source": [
    "У нас есть много признаков с сильными перекосами в сторону отдельного признака. Учитывая, что среди категориальных признаков много медицинских показателей, можно предположить, что именно эти признаки сильно влияют на увеличение риска (целевой признак). Проверить это предположение можно, построив такие же countplot с разбивкой каждого значения дополнительно по классам (то есть у нас будет несколько групп столбиков, и в каждой группе их будет 8). Это можно сделать, указав параметр hue в этой функции аналогично тому, как мы это делали выше.\n",
    "\n",
    "Постройте графики countplot для признаков 'Medical_Keyword_23', 'Medical_Keyword_39', 'Medical_Keyword_45' (признаки выбраны случайно) с разбивкой по классам."
   ]
  },
  {
   "cell_type": "code",
   "metadata": {
    "id": "r23rvhkRw_Ao",
    "ExecuteTime": {
     "end_time": "2024-12-02T10:09:07.229140Z",
     "start_time": "2024-12-02T10:09:06.576240Z"
    }
   },
   "source": [
    "selected_features = ['Medical_Keyword_23', 'Medical_Keyword_39', 'Medical_Keyword_45']\n",
    "# Код 3. Постройте countplot\n",
    "\n",
    "fig, axes = plt.subplots(1, 3, figsize=(18, 6), sharey=True)\n",
    "\n",
    "# Построение countplot с разбивкой по классам (hue)\n",
    "for i, feature in enumerate(selected_features):\n",
    "    sns.countplot(data=data, x=feature, hue='Response', ax=axes[i], palette='tab10')\n",
    "    axes[i].set_title(feature, fontsize=12)\n",
    "    axes[i].tick_params(axis='x', rotation=45)\n",
    "\n",
    "# Финальная настройка и отображение\n",
    "plt.tight_layout()\n",
    "plt.show()"
   ],
   "execution_count": 14,
   "outputs": []
  },
  {
   "cell_type": "markdown",
   "metadata": {
    "id": "1w9IGvTVw_Ao"
   },
   "source": [
    "__Ответьте на вопрос__:\n",
    "* Наличие каких из этих трех факторов сильно повышает риск? Будем считать, что наличие признака сильно повышает риск, если количество человек, имеющих этот признак (то есть он для них равен 1) и отнесенных к категории риска 8, больше, чем такая же величина для любой другой категории риска.\n",
    "* Ответ: Medical_Keyword_39, Medical_Keyword_45"
   ]
  },
  {
   "cell_type": "markdown",
   "metadata": {
    "id": "CrPeiudxw_Ao"
   },
   "source": [
    "##### Наконец, посмотрим на распределение целевого признака, чтобы узнать, сбалансированы ли классы:"
   ]
  },
  {
   "cell_type": "code",
   "metadata": {
    "id": "kTmKnAqPw_As",
    "ExecuteTime": {
     "end_time": "2024-12-02T10:14:30.948660Z",
     "start_time": "2024-12-02T10:14:30.738154Z"
    }
   },
   "source": [
    "plt.figure(figsize=(18, 6))\n",
    "sns.countplot(data=data, x='Response')"
   ],
   "execution_count": 19,
   "outputs": []
  },
  {
   "cell_type": "markdown",
   "metadata": {
    "collapsed": true,
    "id": "YI1f-iU6w_As"
   },
   "source": [
    "### Визуализация с помощью понижения размерности"
   ]
  },
  {
   "cell_type": "markdown",
   "metadata": {
    "id": "HaKlui-lw_As"
   },
   "source": [
    "Далее можно воспользоваться средствами понижения размерности. Для задачи с дискретным целевым признаком это позволит понять, какие классы хорошо разделяются, а какие - нет.\n",
    "\n",
    "Такие методы строят матрицу попарных расстояний между объектами, которая в случае, когда объектов много, будет занимать много памяти. Кроме того, отображать много точек на scatter plot (а именно его используют для визуализации результата понижения размерности) неудобно. Поэтому мы перемешаем выборку (и далее будем использовать ее)."
   ]
  },
  {
   "cell_type": "code",
   "metadata": {
    "id": "jnZ17M7Xw_As",
    "ExecuteTime": {
     "end_time": "2024-12-02T10:49:43.121093Z",
     "start_time": "2024-12-02T10:49:43.117794Z"
    }
   },
   "source": [
    "from sklearn.utils import shuffle\n",
    "from sklearn.preprocessing import scale"
   ],
   "execution_count": 58,
   "outputs": []
  },
  {
   "cell_type": "code",
   "metadata": {
    "id": "Izz2xN4Dw_As",
    "ExecuteTime": {
     "end_time": "2024-12-02T10:49:44.830116Z",
     "start_time": "2024-12-02T10:49:44.745658Z"
    }
   },
   "source": [
    "sdata = shuffle(data, random_state=321)"
   ],
   "execution_count": 59,
   "outputs": []
  },
  {
   "cell_type": "markdown",
   "metadata": {
    "id": "b1sS87szw_At"
   },
   "source": [
    "Методы sklearn не принимают матрицы с пропусками (nan). Чтобы избежать этой проблемы, не будем рассматривать признаки, которые имеют много пропусков (последние четыре в списке вещественных признаков). Кроме того, ограничимся рассмотрением вещественных признаков.\n",
    "\n",
    "В следующей ячейке отбираем нужные признаки, затем находим объекты, у которых все признаки известны (нет пропусков в выбранных признаках), а затем создаем отдельно матрицу объекты-признаки для работы методов понижения размерности и отдельно вектор правильных ответов на этих объектах: data_subset и response_subset. Кроме того, мы дополнительно стандартизуем нашу маленькую выборку, потому что методы понижения размерности очень чувствительны к разномасштабным данным (это отдельно указано в [туториале](http://scikit-learn.org/stable/modules/manifold.html#multidimensional-scaling) в sklearn)"
   ]
  },
  {
   "cell_type": "code",
   "metadata": {
    "id": "v3ER3NLhw_At",
    "ExecuteTime": {
     "end_time": "2024-12-02T10:49:47.792471Z",
     "start_time": "2024-12-02T10:49:47.774792Z"
    }
   },
   "source": [
    "subset_l  = 1000\n",
    "selected_features = real_features[:-4]\n",
    "objects_with_nan = sdata.index[np.any(np.isnan(sdata[selected_features].values), axis=1)]\n",
    "data_subset = scale(sdata[selected_features].drop(objects_with_nan, axis=0)[:subset_l])\n",
    "response_subset = sdata[\"Response\"].drop(objects_with_nan, axis=0)[:subset_l]"
   ],
   "execution_count": 60,
   "outputs": []
  },
  {
   "cell_type": "markdown",
   "metadata": {
    "id": "VM92OxFWw_At"
   },
   "source": [
    "Будем строить визуализацию методами, разобранными на лекции: t-SNE, U-Map и MDS."
   ]
  },
  {
   "cell_type": "code",
   "metadata": {
    "id": "nD7P2uWWw_At",
    "ExecuteTime": {
     "end_time": "2024-12-02T10:49:49.207354Z",
     "start_time": "2024-12-02T10:49:49.203217Z"
    }
   },
   "source": [
    "from sklearn.manifold import TSNE\n",
    "import matplotlib.cm as cm # импортируем цветовые схемы, чтобы рисовать графики."
   ],
   "execution_count": 61,
   "outputs": []
  },
  {
   "cell_type": "markdown",
   "metadata": {
    "id": "6Dfpzkosw_At"
   },
   "source": [
    "Методы понижения размерности имеют такой же интерфейс, как классификаторы и регрессоры. Для построения визуализации t-SNE нужно создать объект класса и вызвать его метод fit_transform, который вернет матрицу размера число объектов x новая размерность; по умолчанию новая размерность равна 2. Выполните эти действия и запишите результат работы метода в переменную tsne_representation. Рекомендуем ознакомиться с параметрами метода на [странице документации TSNE](http://scikit-learn.org/stable/modules/generated/sklearn.manifold.TSNE.html#sklearn.manifold.TSNE). <font color=\"red\"> Зафиксируйте случайное приближение random_state=321, чтобы результат визуализации у всех был одинаковый. </font>"
   ]
  },
  {
   "cell_type": "code",
   "metadata": {
    "id": "4AaEXp0xw_At",
    "ExecuteTime": {
     "end_time": "2024-12-02T10:49:53.368621Z",
     "start_time": "2024-12-02T10:49:51.435576Z"
    }
   },
   "source": [
    "# Код 4. Присвойте переменной tsne_representation результат понижения размерности методом tSNE с параметрами по умолчанию\n",
    "\n",
    "tsne = TSNE(random_state=321)\n",
    "tsne_representation = tsne.fit_transform(data_subset, response_subset)"
   ],
   "execution_count": 62,
   "outputs": []
  },
  {
   "cell_type": "markdown",
   "metadata": {
    "id": "eEFXRQ1Hw_At"
   },
   "source": [
    "Визуализируем полученное представление. Для этого создадим набор цветов по количеству классов, а затем в цикле по классам будем отображать представления точек, относящихся к этому классу. Будем указывать параметр alpha=0.5, чтобы сделать точки полупрозрачными, это лучше в ситуации, когда точки накладываются."
   ]
  },
  {
   "cell_type": "code",
   "source": [
    "n_classes = len(np.unique(response_subset))\n",
    "colors = plt.cm.tab10(np.linspace(0, 1, n_classes + 1))\n",
    "\n",
    "plt.figure(figsize=(10, 6))\n",
    "\n",
    "for cls in np.unique(response_subset):\n",
    "    class_points = tsne_representation[response_subset == cls]\n",
    "    \n",
    "    plt.scatter(class_points[:, 0], class_points[:, 1], \n",
    "                alpha=0.5,\n",
    "                color=colors[cls],\n",
    "                label=f'{cls}')\n",
    "\n",
    "plt.legend()\n",
    "\n",
    "plt.show()"
   ],
   "metadata": {
    "id": "K7mJeGxi0WaU",
    "ExecuteTime": {
     "end_time": "2024-12-02T11:18:28.234172Z",
     "start_time": "2024-12-02T11:18:28.008697Z"
    }
   },
   "execution_count": 84,
   "outputs": []
  },
  {
   "cell_type": "markdown",
   "metadata": {
    "id": "F8-ekuDsw_At"
   },
   "source": [
    "Теперь сделаем то же с MDS."
   ]
  },
  {
   "cell_type": "code",
   "metadata": {
    "id": "oXKqLk-Bw_At",
    "ExecuteTime": {
     "end_time": "2024-12-02T11:12:13.849894Z",
     "start_time": "2024-12-02T11:12:13.845307Z"
    }
   },
   "source": [
    "from sklearn.manifold import MDS\n",
    "from sklearn.metrics.pairwise import cosine_distances"
   ],
   "execution_count": 77,
   "outputs": []
  },
  {
   "cell_type": "code",
   "metadata": {
    "id": "byHGbC20w_At",
    "ExecuteTime": {
     "end_time": "2024-12-02T10:50:29.803910Z",
     "start_time": "2024-12-02T10:49:59.096285Z"
    }
   },
   "source": [
    "# Код 5. Присвойте переменной MDS_transformed результат понижения размерности методом MDS с параметрами по умолчанию\n",
    "MDS_transformed = MDS(random_state=321).fit_transform(data_subset)"
   ],
   "execution_count": 64,
   "outputs": []
  },
  {
   "cell_type": "code",
   "metadata": {
    "id": "8gaPCi_vw_At",
    "ExecuteTime": {
     "end_time": "2024-12-02T11:18:34.615205Z",
     "start_time": "2024-12-02T11:18:34.416005Z"
    }
   },
   "source": [
    "n_classes = len(np.unique(response_subset))\n",
    "colors = plt.cm.tab10(np.linspace(0, 1, n_classes + 1))\n",
    "\n",
    "plt.figure(figsize=(10, 6))\n",
    "\n",
    "for cls in np.unique(response_subset):\n",
    "    class_points = MDS_transformed[response_subset == cls]\n",
    "    \n",
    "    plt.scatter(class_points[:, 0], class_points[:, 1], \n",
    "                alpha=0.5,\n",
    "                color=colors[cls],\n",
    "                label=f'{cls}')\n",
    "    \n",
    "plt.legend()\n",
    "\n",
    "plt.xlim((-5, 5))\n",
    "plt.ylim((-5, 5))\n",
    "plt.show()"
   ],
   "execution_count": 85,
   "outputs": []
  },
  {
   "cell_type": "markdown",
   "metadata": {
    "id": "w7zmQ1V2w_At"
   },
   "source": [
    "Для построения представления можно пробовать разные метрики, их список доступен в [документации scipy](http://docs.scipy.org/doc/scipy-0.14.0/reference/generated/scipy.spatial.distance.pdist.html) (потому что sklearn использует метрики scipy). Вы можете попробовать использовать разные метрики в t-SNE и MDS и смотреть получающиеся визуализации.\n",
    "\n",
    "В t_SNE метрику можно указать при создании объекта класса TSNE, в MDS это реализуется несколько сложнее. Нужно указать dissimilarity=\"precomputed\", а в fit_transform подать не матрицу объектов, а матрицу попарных расстояний между объектами. Создать ее можно с помощью функции pairwise_distances с параметрами: матрица объектов, метрика."
   ]
  },
  {
   "cell_type": "code",
   "metadata": {
    "id": "J9MeqSdLw_Au",
    "ExecuteTime": {
     "end_time": "2024-12-02T11:13:38.287549Z",
     "start_time": "2024-12-02T11:13:18.755617Z"
    }
   },
   "source": [
    "# Код 6. Присвойте переменной MDS_transformed_cos результат понижения размерности методом MDS с косинусной метрикой\n",
    "cosine_data_subset = cosine_distances(data_subset)\n",
    "\n",
    "MDS_transformed_cos = MDS(random_state=321).fit_transform(cosine_data_subset)"
   ],
   "execution_count": 80,
   "outputs": []
  },
  {
   "cell_type": "code",
   "metadata": {
    "id": "2NYcSEDzw_Au",
    "ExecuteTime": {
     "end_time": "2024-12-02T11:18:40.338100Z",
     "start_time": "2024-12-02T11:18:40.107808Z"
    }
   },
   "source": [
    "n_classes = len(np.unique(response_subset))\n",
    "colors = plt.cm.tab10(np.linspace(0, 1, n_classes + 1))\n",
    "\n",
    "plt.figure(figsize=(10, 6))\n",
    "\n",
    "for cls in np.unique(response_subset):\n",
    "    class_points = MDS_transformed_cos[response_subset == cls]\n",
    "    \n",
    "    plt.scatter(class_points[:, 0], class_points[:, 1], \n",
    "                alpha=0.5,\n",
    "                color=colors[cls],\n",
    "                label=f'{cls}')\n",
    "    \n",
    "plt.legend()\n",
    "\n",
    "plt.show()"
   ],
   "execution_count": 86,
   "outputs": []
  },
  {
   "cell_type": "markdown",
   "metadata": {
    "id": "LbUUnviyw_Au"
   },
   "source": [
    "__Ответьте на вопросы:__ Будем нумеровать визуализации от 1 до 3: tSNE, MDS по умолчанию, MDS с косинусной метрикой.\n",
    "* Есть ли визуализация, на которой классы хорошо разделяются? Классы хорошо разделяются, если между облаками точек разных классов можно проводить границы. Если есть, укажите хотя бы одну такую визуализацию.\n",
    "    * Ответ: 3\n",
    "* Есть ли визуализации, по которым видно, что объекты с наименьшим риском (1 и 2) отличаются от объектов с высоким риском (7 и 8)? Будем считать, что объекты классов A и B отличаются, если можно выделить область плоскости, в которой в целом больше точек класса A, и можно выделить область, в которой больше точек класса B. Если есть, укажите хотя бы одну такую визуализацию.\n",
    "    * Ответ: 1\n",
    "* Есть ли визуализации, на которым видны отдельно стоящие (от общего облака) точки? Если есть, укажите хотя бы одну такую визуализацию.\n",
    "    * Ответ: 2"
   ]
  },
  {
   "cell_type": "markdown",
   "metadata": {
    "id": "M7oSPEwpw_Au"
   },
   "source": [
    "Визуализации разными методами достаточно сильно отличаются, но на каждой можно условно выделить направление, вдоль которого происходит увеличение риска от 1 до 8 (то есть точки постепенно меняют цвет). Если бы это не выполнялось, можно было бы предположить, что задача не решаема."
   ]
  },
  {
   "cell_type": "markdown",
   "source": [
    "Теперь то же самое для U-Map"
   ],
   "metadata": {
    "id": "MyRuUPsjfDRj"
   }
  },
  {
   "cell_type": "code",
   "source": [
    "# https://umap-learn.readthedocs.io/en/latest/\n",
    "import umap.umap_ as umap\n",
    "\n",
    "model = umap.UMAP(random_state=321)\n",
    "\n",
    "umap_transformed = model.fit_transform(data_subset)"
   ],
   "metadata": {
    "id": "Kc5rYPAYfC3F",
    "ExecuteTime": {
     "end_time": "2024-12-02T12:02:54.223534Z",
     "start_time": "2024-12-02T12:02:44.985680Z"
    }
   },
   "execution_count": 128,
   "outputs": []
  },
  {
   "metadata": {
    "ExecuteTime": {
     "end_time": "2024-12-02T12:02:58.795465Z",
     "start_time": "2024-12-02T12:02:58.574684Z"
    }
   },
   "cell_type": "code",
   "source": [
    "n_classes = len(np.unique(response_subset))\n",
    "colors = plt.cm.tab10(np.linspace(0, 1, n_classes + 1))\n",
    "\n",
    "plt.figure(figsize=(10, 6))\n",
    "\n",
    "for cls in np.unique(response_subset):\n",
    "    class_points = umap_transformed[response_subset == cls]\n",
    "\n",
    "    plt.scatter(class_points[:, 0], class_points[:, 1],\n",
    "                alpha=0.5,\n",
    "                color=colors[cls],\n",
    "                label=f'{cls}')\n",
    "\n",
    "plt.legend()\n",
    "\n",
    "plt.show()"
   ],
   "execution_count": 129,
   "outputs": []
  },
  {
   "cell_type": "markdown",
   "metadata": {
    "collapsed": true,
    "id": "3u8xdT3bw_Au"
   },
   "source": [
    "### Поиск аномалий"
   ]
  },
  {
   "cell_type": "markdown",
   "metadata": {
    "id": "dAnX3I3rw_Au"
   },
   "source": [
    "Воспользуемся методами поиска аномалий, рассмотренными в лекции."
   ]
  },
  {
   "cell_type": "markdown",
   "metadata": {
    "id": "LZiim9K_w_Av"
   },
   "source": [
    "##### One class SVM\n",
    "Для простоты выберем вещественные признаки, которые известны для всех объектов: Product_Info_4, Ins_Age, Ht, Wt, BMI. Оставим только те, которые относятся к человеку, то есть не будем рассматривать Product_Info_4. Получится, что мы отбираем нестандартных по комбинации вес/рост/возраст людей."
   ]
  },
  {
   "cell_type": "code",
   "metadata": {
    "id": "-rl7aBQNw_Av",
    "ExecuteTime": {
     "end_time": "2024-12-02T12:03:09.247452Z",
     "start_time": "2024-12-02T12:03:09.243755Z"
    }
   },
   "source": [
    "from sklearn import svm"
   ],
   "execution_count": 130,
   "outputs": []
  },
  {
   "cell_type": "code",
   "metadata": {
    "id": "jPLpaDuMw_Av",
    "ExecuteTime": {
     "end_time": "2024-12-02T12:03:12.483370Z",
     "start_time": "2024-12-02T12:03:12.479300Z"
    }
   },
   "source": [
    "person_features = [\"Ins_Age\", \"Ht\", \"Wt\", \"BMI\"]"
   ],
   "execution_count": 131,
   "outputs": []
  },
  {
   "cell_type": "markdown",
   "metadata": {
    "id": "nGpiixO3w_Av"
   },
   "source": [
    "Два ключевых параметра OC_SVM - gamma и nu. Первый влияет на то, как хорошо граница будет приближать данные, второй - сколько точек нужно относить к выбросам. Вы можете попробовать разные значения, в том числе, значения по умолчанию, и убедиться, что при них алгоритм работает не очень адекватно. Запустите следующую ячейку, на ее выполнение может понадобиться некоторое время."
   ]
  },
  {
   "cell_type": "code",
   "metadata": {
    "id": "K4EFuezgw_Av",
    "ExecuteTime": {
     "end_time": "2024-12-02T12:03:18.368781Z",
     "start_time": "2024-12-02T12:03:14.962100Z"
    }
   },
   "source": [
    "svm_ = svm.OneClassSVM(gamma=10, nu=0.01)\n",
    "svm_.fit(sdata[person_features])\n",
    "\n",
    "labels = svm_.predict(sdata[person_features])\n",
    "\n",
    "(labels==1).mean()"
   ],
   "execution_count": 132,
   "outputs": []
  },
  {
   "cell_type": "markdown",
   "metadata": {
    "id": "q1ZUQM7pw_Av"
   },
   "source": [
    "У вас должно получиться, что около 98% объектов не признаются выбросами.\n",
    "\n",
    "Попытаемся визуализировать, какие объекты отнесены к шумовым. Для этого нужно построить scatter-графики для каждой пары признаков в person_features (всего 6 графиков). На каждом графике нужно отдельно отобразить точки с labels==1 и labels==-1.\n",
    "\n",
    "Создайте pyplot-фигуру с 6 графиками: 2 x 3, укажите размер фигуры (12, 8). Затем в цикле по __парам признаков__ из person_features отобразите scatter-графики точек (сделайте точки с разными labels разных цветов: синие, c=\"blue\", - обычные точки, у которых labels==1, красные, c=\"red\",  - шумовые, у которых labels==-1.) Для построения графика можно пользоваться командой axes[...].scatter(...), вместо ... - ваш код. Функция scatter принимает две вектора одинаковой длины, абсциссы и ординаты точек, и дополнительные параметры, например, цвет c и коэффициент прозрачности точек alpha. Подпишите оси названиями признаков, это можно сделать с помощью команды axes[...].set_xlabel(...) или axes[...].ylabel(...)."
   ]
  },
  {
   "cell_type": "code",
   "metadata": {
    "id": "sBcroHhlw_Av",
    "ExecuteTime": {
     "end_time": "2024-12-02T12:14:16.206010Z",
     "start_time": "2024-12-02T12:14:13.302873Z"
    }
   },
   "source": [
    "# Код 7. Постройте 6 графиков\n",
    "\n",
    "fig, axes = plt.subplots(2, 3, figsize=(12, 8))\n",
    "\n",
    "# Список всех пар признаков из person_features\n",
    "feature_pairs = [(person_features[i], person_features[j]) \n",
    "                 for i in range(len(person_features)) \n",
    "                 for j in range(i+1, len(person_features))]\n",
    "\n",
    "\n",
    "for idx, (f1, f2) in enumerate(feature_pairs):\n",
    "    ax = axes[idx // 3, idx % 3] \n",
    "    \n",
    "    normal_points = sdata[labels == 1]\n",
    "    outlier_points = sdata[labels == -1]\n",
    "    \n",
    "    ax.scatter(normal_points[f1], normal_points[f2], c=\"blue\", alpha=0.5, label=\"Normal\", s=10)\n",
    "    ax.scatter(outlier_points[f1], outlier_points[f2], c=\"red\", alpha=0.5, label=\"Outlier\", s=10)\n",
    "    \n",
    "    ax.set_xlabel(f1)\n",
    "    ax.set_ylabel(f2)\n",
    "    \n",
    "    ax.legend()\n",
    "\n",
    "# Показываем графики\n",
    "plt.show()"
   ],
   "execution_count": 135,
   "outputs": []
  },
  {
   "cell_type": "markdown",
   "metadata": {
    "collapsed": true,
    "id": "Fc9CTJYTw_Av"
   },
   "source": [
    "Вы должны увидеть, что, во-первых, облака синие точки заполняют почти все облако точек, а во-вторых, красные точки находятся на границе или далеко от облака (интуитивно понятно, что это аномальные объекты)."
   ]
  },
  {
   "cell_type": "markdown",
   "metadata": {
    "id": "eAB4_EP5w_Av"
   },
   "source": [
    "##### Непараметрическое восстановление плотности.\n",
    "Искать аномалии можно, анализируя непараметрически восстановленную плотность одномерного распределения. Так можно заметить, что какие-то объекты выбиваются из общей тенденции.\n",
    "\n",
    "В seaborn это удобно делать с помощью метода distplot. Посмотрев на гистограммы в начале ноутбука, выберем для ближайшего рассмотрения признаки BMI, Employment_Info_1, Medical_History_32.\n",
    "\n",
    "Примените метод distplot к этим трем признакам, указав bins=50. Рекомендуется удалять значения nan с помощью метода датафрейма .dropna()."
   ]
  },
  {
   "cell_type": "code",
   "metadata": {
    "id": "0fMyaZL3w_Aw",
    "ExecuteTime": {
     "end_time": "2024-12-02T12:42:28.238574Z",
     "start_time": "2024-12-02T12:42:27.241174Z"
    }
   },
   "source": [
    "# Код 8. Восстановите плотности для трех указанных признаков\n",
    "distplot_features = ['BMI', 'Employment_Info_1', 'Medical_History_32']\n",
    "\n",
    "for feature in distplot_features:\n",
    "    sns.displot(sdata[feature].dropna(), bins=50)"
   ],
   "execution_count": 140,
   "outputs": []
  },
  {
   "cell_type": "markdown",
   "metadata": {
    "collapsed": true,
    "id": "QeeMn9Rtw_Aw"
   },
   "source": [
    "На трех графиках видно, что в конце множества значений признака есть скачок, и это явление очень похоже на аномалию."
   ]
  }
 ],
 "metadata": {
  "kernelspec": {
   "display_name": "Python 3",
   "language": "python",
   "name": "python3"
  },
  "language_info": {
   "codemirror_mode": {
    "name": "ipython",
    "version": 3
   },
   "file_extension": ".py",
   "mimetype": "text/x-python",
   "name": "python",
   "nbconvert_exporter": "python",
   "pygments_lexer": "ipython3",
   "version": "3.6.8"
  },
  "colab": {
   "provenance": []
  }
 },
 "nbformat": 4,
 "nbformat_minor": 0
}
